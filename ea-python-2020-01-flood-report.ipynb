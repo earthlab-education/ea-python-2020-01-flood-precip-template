{
 "cells": [
  {
   "cell_type": "markdown",
   "metadata": {},
   "source": [
    "<img style=\"float: left;\" src=\"earth-lab-logo-rgb.png\" width=\"150\" height=\"150\" />\n",
    "\n",
    "# Earth Analytics Python Course: Spring 2020"
   ]
  },
  {
   "cell_type": "markdown",
   "metadata": {},
   "source": [
    "Before submitting this assignment, be sure to restart the kernel and run all cells. To do this, pull down the Kernel drop down at the top of this notebook. Then select **restart and run all**.\n",
    "\n",
    "Make sure you fill in any place that says `YOUR CODE HERE` or \"YOUR ANSWER HERE\", as well as your name and collaborators below."
   ]
  },
  {
   "cell_type": "code",
   "execution_count": null,
   "metadata": {},
   "outputs": [],
   "source": [
    "NAME = \"\"\n",
    "COLLABORATORS = \"\""
   ]
  },
  {
   "cell_type": "markdown",
   "metadata": {},
   "source": [
    "---"
   ]
  },
  {
   "cell_type": "markdown",
   "metadata": {},
   "source": [
    "![Colored Bar](colored-bar.png)"
   ]
  },
  {
   "cell_type": "markdown",
   "metadata": {
    "deletable": false,
    "editable": false,
    "nbgrader": {
     "cell_type": "markdown",
     "checksum": "24a7c80b0f29a72945514445cf57b8eb",
     "grade": false,
     "grade_id": "cell-d8ef001d6e389a94",
     "locked": true,
     "schema_version": 3,
     "solution": false,
     "task": false
    }
   },
   "source": [
    "## About the 2013 Colorado Floods\n",
    "\n",
    "In the Earth Analytics bootcamp course last fall, you learned how to process time series data. You also learned how to write functions. You will use these skills in this assignment to process some data associated with the 2019 floods. Some of this data you may have already worked with last semester!\n",
    "\n",
    "To begin, you should have already read some of the overview material in the intermediate earth analytics textbook about the 2019 Colorado Flood event. \n",
    "\n",
    "\n",
    "### Graded Activity\n",
    "In the cell below, please add a concise paragraph that summarizes the following:\n",
    "\n",
    "1. List 2 main drivers (causes) of the Colorado Floods. (5 points)\n",
    "2. Describe 3 impacts of the floods on the region.  (5 Points)\n",
    "*******************"
   ]
  },
  {
   "cell_type": "markdown",
   "metadata": {
    "deletable": false,
    "nbgrader": {
     "cell_type": "markdown",
     "checksum": "0945c6cedd7d573fff78d61e31fa3576",
     "grade": true,
     "grade_id": "cell-8d9f1017e96dea99",
     "locked": false,
     "points": 10,
     "schema_version": 3,
     "solution": true,
     "task": false
    }
   },
   "source": [
    "YOUR ANSWER HERE"
   ]
  },
  {
   "cell_type": "markdown",
   "metadata": {},
   "source": [
    "![Colored Bar](colored-bar.png)"
   ]
  },
  {
   "cell_type": "code",
   "execution_count": null,
   "metadata": {
    "deletable": false,
    "editable": false,
    "nbgrader": {
     "cell_type": "code",
     "checksum": "a22f763a9911082ea76cfc35c9191763",
     "grade": false,
     "grade_id": "cell-25bb644a26946e55",
     "locked": true,
     "schema_version": 3,
     "solution": false,
     "task": false
    }
   },
   "outputs": [],
   "source": [
    "# Imports for autograding - do not edit!\n",
    "import matplotcheck.base as mpc\n",
    "import matplotcheck.timeseries as mts\n",
    "# IMPORTANT: This cell will not run if you have matplotcheck version < 0.1 \n",
    "# to update run conda install -c conda-forge matplotcheck --upgrade\n",
    "import matplotcheck.autograde as ag\n",
    "import matplotcheck.notebook as nb\n",
    "import matplotcheck.raster as ra"
   ]
  },
  {
   "cell_type": "code",
   "execution_count": null,
   "metadata": {
    "deletable": false,
    "nbgrader": {
     "cell_type": "code",
     "checksum": "ccf52b0c4d08950be97e6023d1e6a56d",
     "grade": true,
     "grade_id": "cell-bca20868ba87b303",
     "locked": false,
     "points": 5,
     "schema_version": 3,
     "solution": true,
     "task": false
    }
   },
   "outputs": [],
   "source": [
    "# Import libraries here\n",
    "\n",
    "# YOUR CODE HERE\n",
    "raise NotImplementedError()"
   ]
  },
  {
   "cell_type": "markdown",
   "metadata": {
    "deletable": false,
    "editable": false,
    "nbgrader": {
     "cell_type": "markdown",
     "checksum": "16e4fe6995290d53464081867f3c2f92",
     "grade": false,
     "grade_id": "cell-ac0b964d5d2b8837",
     "locked": true,
     "schema_version": 3,
     "solution": false,
     "task": false
    }
   },
   "source": [
    "## Import and Process Precipitation Data (10 points)\n",
    "Use pandas to open the file: `data/precipitation/805333-precip-daily-1948-2013.csv`. \n",
    "Use the file to do the following:\n",
    "\n",
    "1. Create an object called `precip_hourly` that represents hourly precipitation.\n",
    "2. Create an object called `precip_daily` that represents daily precipitation.\n",
    "3. Create an object called `precip_monthly` that represents monthly precipitation.\n",
    "\n",
    "For each data frame created above make sure the \"Date\" column is set as the index and is of `datetime`. Also be sure to handle importing no data values when you open the file. Use the `PRECIP_HLY_documentation.pdf` available in your data download to read more about this file and to access the metadata. \n"
   ]
  },
  {
   "cell_type": "code",
   "execution_count": null,
   "metadata": {
    "deletable": false,
    "nbgrader": {
     "cell_type": "code",
     "checksum": "0ec19af872850f2a5690ea70386c2e02",
     "grade": false,
     "grade_id": "cell-7684868ba85b65da",
     "locked": false,
     "schema_version": 3,
     "solution": true,
     "task": false
    }
   },
   "outputs": [],
   "source": [
    "# YOUR CODE HERE\n",
    "raise NotImplementedError()"
   ]
  },
  {
   "cell_type": "code",
   "execution_count": null,
   "metadata": {
    "deletable": false,
    "editable": false,
    "nbgrader": {
     "cell_type": "code",
     "checksum": "ce2fe19b914be65e68d897b31a2b1714",
     "grade": true,
     "grade_id": "cell-e4683774838ff4b4",
     "locked": true,
     "points": 10,
     "schema_version": 3,
     "solution": false,
     "task": false
    }
   },
   "outputs": [],
   "source": [
    "# Test that DataFrame objects were created with proper names and index\n",
    "\n",
    "points = 0\n",
    "\n",
    "try:\n",
    "    assert isinstance(precip_hourly, pd.DataFrame)\n",
    "    assert type(precip_hourly.index) == pd.core.indexes.datetimes.DatetimeIndex\n",
    "    points += 3.3\n",
    "except AssertionError as message:\n",
    "    print(\"AssertionError:\",\n",
    "          \"Make sure you've created the hourly data frame!\")\n",
    "try:\n",
    "    assert isinstance(precip_daily, pd.DataFrame)\n",
    "    assert type(precip_daily.index) == pd.core.indexes.datetimes.DatetimeIndex\n",
    "    points += 3.3\n",
    "except AssertionError as message:\n",
    "    print(\"AssertionError:\",\n",
    "          \"Make sure you've created the daily data frame!\")\n",
    "try:\n",
    "    assert isinstance(precip_monthly, pd.DataFrame)\n",
    "    assert type(precip_monthly.index) == pd.core.indexes.datetimes.DatetimeIndex\n",
    "    points += 3.3\n",
    "except AssertionError as message:\n",
    "    print(\"AssertionError:\",\n",
    "          \"Make sure you've created the monthly data frame!\")\n",
    "\n",
    "round(points)"
   ]
  },
  {
   "cell_type": "markdown",
   "metadata": {
    "deletable": false,
    "editable": false,
    "nbgrader": {
     "cell_type": "markdown",
     "checksum": "34e4c4f45e3cb891b9df58feeca5cbe1",
     "grade": false,
     "grade_id": "cell-1281c927ae3971cc",
     "locked": true,
     "schema_version": 3,
     "solution": false,
     "task": false
    }
   },
   "source": [
    "![Colored Bar](colored-bar.png)"
   ]
  },
  {
   "cell_type": "markdown",
   "metadata": {
    "deletable": false,
    "editable": false,
    "nbgrader": {
     "cell_type": "markdown",
     "checksum": "c266e3985142eda5a91bfb8c47691205",
     "grade": false,
     "grade_id": "cell-b187d28987cbec27",
     "locked": true,
     "schema_version": 3,
     "solution": false,
     "task": false
    }
   },
   "source": [
    "# Precipitation Plot 1 1948-2013 - 11 points\n",
    "\n",
    "Create a **scatter plot of hourly precipitation from 1948-2013** using the `data/precipitation/805333-precip-daily-1948-2013.csv` file and the `precip_hourly` object that you created above. In this plot, be sure to do the following:\n",
    "\n",
    "1. Remove no data values when you import the data.\n",
    "2. IMPORTANT: Do not aggregate the data\n",
    "3. Parse dates properly so you can plot the data using time on the x axis \n",
    "4. Create x axis ticks at 10 year increments: ege 1930, 1040, etc.\n",
    "5. Be sure to label the x and y axis and include units on the Y axis\n",
    "6. The plot title should contain the increment at which the data were collected\n"
   ]
  },
  {
   "cell_type": "code",
   "execution_count": null,
   "metadata": {
    "deletable": false,
    "nbgrader": {
     "cell_type": "code",
     "checksum": "555d34dd58d96de58cbe706e96b2baed",
     "grade": false,
     "grade_id": "cell-c0ad31034dbcb552",
     "locked": false,
     "schema_version": 3,
     "solution": true,
     "task": false
    }
   },
   "outputs": [],
   "source": [
    "# Plot 1 use the precip_hourly object that you created above\n",
    "# Add your code to generate this plot here.\n",
    "\n",
    "# YOUR CODE HERE\n",
    "raise NotImplementedError()\n",
    "\n",
    "### DO NOT REMOVE LINE BELOW ###\n",
    "plot_1_ts = nb.convert_axes(plt, which_axes=\"current\")"
   ]
  },
  {
   "cell_type": "code",
   "execution_count": null,
   "metadata": {
    "deletable": false,
    "editable": false,
    "nbgrader": {
     "cell_type": "code",
     "checksum": "ca889b92a2bb649cc2e554c5755ccdca",
     "grade": true,
     "grade_id": "cell-59261a688b417385",
     "locked": true,
     "points": 6,
     "schema_version": 3,
     "solution": false,
     "task": false
    }
   },
   "outputs": [],
   "source": []
  },
  {
   "cell_type": "code",
   "execution_count": null,
   "metadata": {
    "deletable": false,
    "editable": false,
    "nbgrader": {
     "cell_type": "code",
     "checksum": "33ddced8c3aa84f190b830d279c05657",
     "grade": true,
     "grade_id": "cell-bd78696e67724101",
     "locked": true,
     "points": 5,
     "schema_version": 3,
     "solution": false,
     "task": false
    }
   },
   "outputs": [],
   "source": [
    "# This is where the data will be tested for your plot above. You can skip this cell."
   ]
  },
  {
   "cell_type": "markdown",
   "metadata": {},
   "source": [
    "![Colored Bar](colored-bar.png)"
   ]
  },
  {
   "cell_type": "markdown",
   "metadata": {},
   "source": [
    "### Question\n",
    "\n",
    "1. Consider the plot above and the associated data. What is causing the visual difference in the data that occurs around 1970? \n",
    "2. What processing step(s) could you use to address this difference in the data to make the data more similar before and after ~1970?\n",
    "2. List 2 potential reasons why this change in the data may have occured. \n"
   ]
  },
  {
   "cell_type": "markdown",
   "metadata": {
    "deletable": false,
    "nbgrader": {
     "cell_type": "markdown",
     "checksum": "0cb0a8e83a18a1383c21d31647d0496b",
     "grade": true,
     "grade_id": "cell-69991b86e35c29f5",
     "locked": false,
     "points": 8,
     "schema_version": 3,
     "solution": true,
     "task": false
    }
   },
   "source": [
    "YOUR ANSWER HERE"
   ]
  },
  {
   "cell_type": "markdown",
   "metadata": {},
   "source": [
    "![Colored Bar](colored-bar.png)"
   ]
  },
  {
   "cell_type": "markdown",
   "metadata": {},
   "source": [
    "## Plots 2 & 3\n",
    "\n",
    "Using the same data that you used above, create a figure with two side by side subplots. The first plot should be a **scatter plot** of the DAILY precipitation using the DataFrame `precip_daily` that you created above. The second should be a **scatter plot** showing Monthly total precipitation using the `precip_hourly` object. For each plot be sure to do the following:\n",
    "\n",
    "1. Include an x and y axis label with correct units specified\n",
    "2. include a title that describes the date range of the data, the location where the data were collected and the variable being displayed.\n",
    "3. The x axis should display time\n",
    "4. Using matplotlib `ylim` settings to scale your y axis so both plots are the same. Scale the y axis from 0-20.\n"
   ]
  },
  {
   "cell_type": "code",
   "execution_count": null,
   "metadata": {
    "deletable": false,
    "nbgrader": {
     "cell_type": "code",
     "checksum": "f192d18cad18c8737e2908af216fddfb",
     "grade": false,
     "grade_id": "cell-1f1242e8b36c1a33",
     "locked": false,
     "schema_version": 3,
     "solution": true,
     "task": false
    }
   },
   "outputs": [],
   "source": [
    "# YOUR CODE HERE\n",
    "raise NotImplementedError()\n",
    "\n",
    "### DO NOT REMOVE LINE BELOW ###\n",
    "plot_2_ts = nb.convert_axes(plt)"
   ]
  },
  {
   "cell_type": "code",
   "execution_count": null,
   "metadata": {
    "deletable": false,
    "editable": false,
    "nbgrader": {
     "cell_type": "code",
     "checksum": "2e87def5553c1565de6ca6f5d32615aa",
     "grade": true,
     "grade_id": "cell-fd6f5d59defe262a",
     "locked": true,
     "points": 6,
     "schema_version": 3,
     "solution": false,
     "task": false
    }
   },
   "outputs": [],
   "source": []
  },
  {
   "cell_type": "code",
   "execution_count": null,
   "metadata": {
    "deletable": false,
    "editable": false,
    "nbgrader": {
     "cell_type": "code",
     "checksum": "1d30f4bd8240e1355b6be1447f825701",
     "grade": true,
     "grade_id": "cell-d39b3343de817c62",
     "locked": true,
     "points": 6,
     "schema_version": 3,
     "solution": false,
     "task": false
    }
   },
   "outputs": [],
   "source": [
    "# This is where your data will be graded! Ignore this cell"
   ]
  },
  {
   "cell_type": "code",
   "execution_count": null,
   "metadata": {
    "deletable": false,
    "editable": false,
    "nbgrader": {
     "cell_type": "code",
     "checksum": "56dcb12f8037755606d7b2fe03ad23dd",
     "grade": true,
     "grade_id": "cell-106240be06199028",
     "locked": true,
     "points": 6,
     "schema_version": 3,
     "solution": false,
     "task": false
    }
   },
   "outputs": [],
   "source": [
    "# This will test your plots - ignore"
   ]
  },
  {
   "cell_type": "code",
   "execution_count": null,
   "metadata": {
    "deletable": false,
    "editable": false,
    "nbgrader": {
     "cell_type": "code",
     "checksum": "089364f5219ba4114940998f475800d1",
     "grade": true,
     "grade_id": "cell-82f769c859a368ec",
     "locked": true,
     "points": 6,
     "schema_version": 3,
     "solution": false,
     "task": false
    }
   },
   "outputs": [],
   "source": []
  },
  {
   "cell_type": "markdown",
   "metadata": {},
   "source": [
    "![Colored Bar](colored-bar.png)"
   ]
  },
  {
   "cell_type": "markdown",
   "metadata": {},
   "source": [
    "## Task: 10 points\n",
    "In the cell below, complete the code needed for a function called `calc_max_precip_year` that will subset a data frame to identify the row where a particular column (in this case HPCP) has a max value. The function should return the YEAR associated with the row that has the max value.  \n",
    "\n",
    "The function should\n",
    "\n",
    "1. take a pandas dataframe and a column name (as a text string) as an input\n",
    "2. return a year in a numeric form.\n",
    "\n",
    "Then run the function to create the following 3 variables:\n",
    "\n",
    "1. `calculated_year_hourly`\n",
    "1. `calculated_year_daily`\n",
    "1. `calculated_year_monthly`\n"
   ]
  },
  {
   "cell_type": "code",
   "execution_count": null,
   "metadata": {
    "deletable": false,
    "nbgrader": {
     "cell_type": "code",
     "checksum": "7d16a125db76e58bb506c378f87ad106",
     "grade": false,
     "grade_id": "cell-a69554dd5e2122dd",
     "locked": false,
     "schema_version": 3,
     "solution": true,
     "task": false
    }
   },
   "outputs": [],
   "source": [
    "# Write a function that calculates the year during which the max rainfall occured.\n",
    "\n",
    "\n",
    "def calc_max_precip_year(df, col_name):\n",
    "    \"\"\"\n",
    "    Function that takes a dataframe and calculates the year during which a max event occurred.\n",
    "\n",
    "    # Add the parameters and returns elements here to fill out your docstring\n",
    "\n",
    "    \"\"\"\n",
    "\n",
    "    # Populate this function with the correct code\n",
    "    # YOUR CODE HERE\n",
    "    raise NotImplementedError()\n",
    "\n",
    "    # Test that the function returns an integer value\n",
    "    try:\n",
    "        assert isinstance(year, (np.int64, int, float, complex))\n",
    "    except ValueError:\n",
    "        print(\"Oops!  This function should return an integer representing a year.\")\n",
    "\n",
    "    return year\n",
    "\n",
    "\n",
    "# Here, create the three objects specified in the markdown cell above : \n",
    "# 1) calculated_year_hourly, 2) calculated_year_daily, 3) calculated_year_monthly\n",
    "\n",
    "# YOUR CODE HERE\n",
    "raise NotImplementedError()\n"
   ]
  },
  {
   "cell_type": "code",
   "execution_count": null,
   "metadata": {
    "deletable": false,
    "editable": false,
    "nbgrader": {
     "cell_type": "code",
     "checksum": "0d749ac76ce9843563914e57cac52074",
     "grade": true,
     "grade_id": "cell-78c54e6e24199606",
     "locked": true,
     "points": 7,
     "schema_version": 3,
     "solution": false,
     "task": false
    }
   },
   "outputs": [],
   "source": []
  },
  {
   "cell_type": "markdown",
   "metadata": {
    "deletable": false,
    "editable": false,
    "nbgrader": {
     "cell_type": "markdown",
     "checksum": "e915051f95787168c0a9bd100e214718",
     "grade": false,
     "grade_id": "cell-665a8698d7c16720",
     "locked": true,
     "points": 3,
     "schema_version": 3,
     "solution": false,
     "task": true
    }
   },
   "source": [
    "## Manually Graded Cell\n",
    "This is where your docstring will be graded! Be sure that you have a number style docstring with `parameters` and `returns`."
   ]
  },
  {
   "cell_type": "markdown",
   "metadata": {},
   "source": [
    "![Colored Bar](colored-bar.png)"
   ]
  },
  {
   "cell_type": "markdown",
   "metadata": {},
   "source": [
    "### Question: \n",
    "\n",
    "In the markdown cell below, first answer the following questions\n",
    "\n",
    "1. In what year did Boulder have the highest hourly precipitation recorded value?\n",
    "2. In what year did Boulder have the highest daily precipitation recorded value?\n",
    "3. In what year did Boulder have the highest monthly precipitation recorded value?\n",
    "4. Consider your answers to the questions above. How could summarizing data at different temporal units (hour, vs month vs year) impact an analysis of rainfall as it contributes to a flood event? (write a short paragraph - 3-5 sentences) that addresses this question.\n"
   ]
  },
  {
   "cell_type": "markdown",
   "metadata": {
    "deletable": false,
    "nbgrader": {
     "cell_type": "markdown",
     "checksum": "d72ff1a25a137582e6079bce93aff467",
     "grade": true,
     "grade_id": "cell-42291f9e56d020c8",
     "locked": false,
     "points": 10,
     "schema_version": 3,
     "solution": true,
     "task": false
    }
   },
   "source": [
    "YOUR ANSWER HERE"
   ]
  },
  {
   "cell_type": "markdown",
   "metadata": {},
   "source": [
    "![Colored Bar](colored-bar.png)"
   ]
  },
  {
   "cell_type": "markdown",
   "metadata": {
    "deletable": false,
    "editable": false,
    "nbgrader": {
     "cell_type": "markdown",
     "checksum": "104076b4cd012d37c2b72915ab061c30",
     "grade": false,
     "grade_id": "cell-304c1b8128c6c57f",
     "locked": true,
     "points": 12,
     "schema_version": 3,
     "solution": false,
     "task": true
    }
   },
   "source": [
    "# This is a manually graded cell\n",
    "You can ignore it\n",
    "1. AutoPep 8 format applied (5 points)\n",
    "2. Notebook starts at cell [1] and runs without errors (5 points)\n",
    "3. All imports are listed at the top of the notebook (2 points)"
   ]
  }
 ],
 "metadata": {
  "kernelspec": {
   "display_name": "Python 3",
   "language": "python",
   "name": "python3"
  },
  "language_info": {
   "codemirror_mode": {
    "name": "ipython",
    "version": 3
   },
   "file_extension": ".py",
   "mimetype": "text/x-python",
   "name": "python",
   "nbconvert_exporter": "python",
   "pygments_lexer": "ipython3",
   "version": "3.7.3"
  }
 },
 "nbformat": 4,
 "nbformat_minor": 2
}
