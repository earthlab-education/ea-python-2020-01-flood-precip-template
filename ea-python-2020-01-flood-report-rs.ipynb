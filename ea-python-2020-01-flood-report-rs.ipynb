{
 "cells": [
  {
   "cell_type": "markdown",
   "metadata": {},
   "source": [
    "<img style=\"float: left;\" src=\"earth-lab-logo-rgb.png\" width=\"150\" height=\"150\" />\n",
    "\n",
    "# Earth Analytics Python Course: Spring 2020"
   ]
  },
  {
   "cell_type": "markdown",
   "metadata": {},
   "source": [
    "Before submitting this assignment, be sure to restart the kernel and run all cells. To do this, pull down the Kernel drop down at the top of this notebook. Then select **restart and run all**.\n",
    "\n",
    "Make sure you fill in any place that says `YOUR CODE HERE` or \"YOUR ANSWER HERE\", as well as your name and collaborators below."
   ]
  },
  {
   "cell_type": "code",
   "execution_count": 1,
   "metadata": {},
   "outputs": [],
   "source": [
    "NAME = \"Robina Shaheen\"\n",
    "COLLABORATORS = \"\""
   ]
  },
  {
   "cell_type": "markdown",
   "metadata": {},
   "source": [
    "---"
   ]
  },
  {
   "cell_type": "markdown",
   "metadata": {
    "deletable": false,
    "editable": false,
    "nbgrader": {
     "cell_type": "markdown",
     "checksum": "84e7bf64701b067d484cd0f3bff55ea8",
     "grade": false,
     "grade_id": "cell-fedc4fcffac79a03",
     "locked": true,
     "schema_version": 3,
     "solution": false,
     "task": false
    }
   },
   "source": [
    "![Colored Bar](colored-bar.png)"
   ]
  },
  {
   "cell_type": "markdown",
   "metadata": {
    "deletable": false,
    "editable": false,
    "nbgrader": {
     "cell_type": "markdown",
     "checksum": "24a7c80b0f29a72945514445cf57b8eb",
     "grade": false,
     "grade_id": "cell-d8ef001d6e389a94",
     "locked": true,
     "schema_version": 3,
     "solution": false,
     "task": false
    }
   },
   "source": [
    "## About the 2013 Colorado Floods\n",
    "\n",
    "In the Earth Analytics bootcamp course last fall, you learned how to process time series data. You also learned how to write functions. You will use these skills in this assignment to process some data associated with the 2019 floods. Some of this data you may have already worked with last semester!\n",
    "\n",
    "To begin, you should have already read some of the overview material in the intermediate earth analytics textbook about the 2019 Colorado Flood event. \n",
    "\n",
    "\n",
    "### Graded Activity\n",
    "In the cell below, please add a concise paragraph that summarizes the following:\n",
    "\n",
    "1. List 2 main drivers (causes) of the Colorado Floods. (5 points)\n",
    "2. Describe 3 impacts of the floods on the region.  (5 Points)\n",
    "*******************"
   ]
  },
  {
   "cell_type": "markdown",
   "metadata": {
    "deletable": false,
    "nbgrader": {
     "cell_type": "markdown",
     "checksum": "0945c6cedd7d573fff78d61e31fa3576",
     "grade": true,
     "grade_id": "cell-8d9f1017e96dea99",
     "locked": false,
     "points": 10,
     "schema_version": 3,
     "solution": true,
     "task": false
    }
   },
   "source": [
    "1. Main drivers of the Colorado Floods :\n",
    "    * Precipitation: On average, Colorado recives ~ 20  inches of rain in the form of rain, snow and hail through out the year. However, in early September 2013, a slow moving cold front moved through Colorado intersecting with a warm, humid front. The clash between the cold and warm fronts yielded heavy rain causing late summer flood. Due to the atmospheric conditions, the storm produced significant precipitation in short time (17 inches in just one week). A heavy rain coupled with the geogrpahy of the aera can caused devastating damages. For example, the storm that caused the 2013 Colorado flooding was kept in a confined area over the Eastern Range of the Rocky Mountains in Colorado by these water vapor systems.\n",
    "\n",
    "    * River Discharge: Stream and river discharge is another ideal metric to quantify flow, which increases significantly during a flood event. The United States Geological Survey has a distributed network of aquatic sensors located in streams across the United States. On Sep. 13, 2013, Boulder creek flow surged to ~8400 CFS, according to the USGS sensors Network and this caused flash flood in the area. \n",
    "    In conclusion a combination of heavy rain fall in just few days and extreme water discharge at both the Boulder Creek and Fountain Creek in Sep. 2013 led to river overflow, killing 10 people and causing billion in damages.\n",
    "    \n",
    "2. Impact of the floods on the region.\n",
    "    * Economic Impact:  Homes, businesses, and other infrastructure were damaged during Sep. 2013 flood event causing $4 billion in damages across 24 counties. \n",
    "    * Ecosystem Impact:  Changes in the river/stream path can brings major changes for aquatic organisms and terrestrial organisms. For example, crayfish lost their habitat during 2013 flood event. They used to live along the old stream bed which is bare and dry now. Similarly field vole, that used to have a burrow in dry land which is now new path of the St. Vrain River. \n",
    "    * Landscape Impact: People living in the house that is now on the west side of the river instead of the eastern bank have a completely different yard and driveway! \n",
    "    * Insurance hike: Catastrophic events like 2013 flood can lead to an increase in insurance price for businesses and home. It may also lead to decrased in property values in the flood basin."
   ]
  },
  {
   "cell_type": "markdown",
   "metadata": {
    "deletable": false,
    "editable": false,
    "nbgrader": {
     "cell_type": "markdown",
     "checksum": "fd0e42e0e650b2ed1a03f040ae03c2ff",
     "grade": false,
     "grade_id": "cell-bcd254f2a51f4658",
     "locked": true,
     "schema_version": 3,
     "solution": false,
     "task": false
    }
   },
   "source": [
    "![Colored Bar](colored-bar.png)"
   ]
  },
  {
   "cell_type": "code",
   "execution_count": 2,
   "metadata": {
    "deletable": false,
    "editable": false,
    "nbgrader": {
     "cell_type": "code",
     "checksum": "a22f763a9911082ea76cfc35c9191763",
     "grade": false,
     "grade_id": "cell-25bb644a26946e55",
     "locked": true,
     "schema_version": 3,
     "solution": false,
     "task": false
    }
   },
   "outputs": [],
   "source": [
    "# Imports for autograding - do not edit!\n",
    "import matplotcheck.base as mpc\n",
    "import matplotcheck.timeseries as mts\n",
    "# IMPORTANT: This cell will not run if you have matplotcheck version < 0.1 \n",
    "# to update run conda install -c conda-forge matplotcheck --upgrade\n",
    "import matplotcheck.autograde as ag\n",
    "import matplotcheck.notebook as nb\n",
    "import matplotcheck.raster as ra"
   ]
  },
  {
   "cell_type": "code",
   "execution_count": 3,
   "metadata": {
    "deletable": false,
    "nbgrader": {
     "cell_type": "code",
     "checksum": "ccf52b0c4d08950be97e6023d1e6a56d",
     "grade": true,
     "grade_id": "cell-bca20868ba87b303",
     "locked": false,
     "points": 5,
     "schema_version": 3,
     "solution": true,
     "task": false
    }
   },
   "outputs": [],
   "source": [
    "# Import libraries here\n",
    "\n",
    "# YOUR CODE HERE\n",
    "import os\n",
    "import matplotlib.pyplot as plt\n",
    "import matplotlib.dates as mdates\n",
    "from matplotlib.dates import DateFormatter\n",
    "import seaborn as sns\n",
    "import numpy as np\n",
    "import pandas as pd\n",
    "import earthpy as et\n",
    "\n",
    "# To handle date time conversions between pandas and matplotlib\n",
    "from pandas.plotting import register_matplotlib_converters\n",
    "register_matplotlib_converters()\n",
    "\n",
    "# Use white grid plot background from seaborn\n",
    "sns.set(font_scale=1.5, style=\"whitegrid\")"
   ]
  },
  {
   "cell_type": "markdown",
   "metadata": {
    "deletable": false,
    "editable": false,
    "nbgrader": {
     "cell_type": "markdown",
     "checksum": "16e4fe6995290d53464081867f3c2f92",
     "grade": false,
     "grade_id": "cell-ac0b964d5d2b8837",
     "locked": true,
     "schema_version": 3,
     "solution": false,
     "task": false
    }
   },
   "source": [
    "## Import and Process Precipitation Data (10 points)\n",
    "Use pandas to open the file: `data/precipitation/805333-precip-daily-1948-2013.csv`. \n",
    "Use the file to do the following:\n",
    "\n",
    "1. Create an object called `precip_hourly` that represents hourly precipitation.\n",
    "2. Create an object called `precip_daily` that represents daily precipitation.\n",
    "3. Create an object called `precip_monthly` that represents monthly precipitation.\n",
    "\n",
    "For each data frame created above make sure the \"Date\" column is set as the index and is of `datetime`. Also be sure to handle importing no data values when you open the file. Use the `PRECIP_HLY_documentation.pdf` available in your data download to read more about this file and to access the metadata. \n"
   ]
  },
  {
   "cell_type": "code",
   "execution_count": 4,
   "metadata": {
    "deletable": false,
    "nbgrader": {
     "cell_type": "code",
     "checksum": "0ec19af872850f2a5690ea70386c2e02",
     "grade": false,
     "grade_id": "cell-7684868ba85b65da",
     "locked": false,
     "schema_version": 3,
     "solution": true,
     "task": false
    }
   },
   "outputs": [
    {
     "data": {
      "text/plain": [
       "False"
      ]
     },
     "execution_count": 4,
     "metadata": {},
     "output_type": "execute_result"
    }
   ],
   "source": [
    "# YOUR CODE HERE\n",
    "# Define relative path to file using os.path.join\n",
    "\n",
    "daily_precip_1948_2013 = os.path.join(\"data\",\"colorado-flood\",\"precipitation\",\n",
    "                                      '805333-precip-daily-1948-2013.csv')\n",
    "# To check if path is created\n",
    "\n",
    "os.path.exists(daily_precip_1948_2013)"
   ]
  },
  {
   "cell_type": "code",
   "execution_count": 5,
   "metadata": {},
   "outputs": [
    {
     "data": {
      "text/plain": [
       "'C:\\\\Users\\\\bina_\\\\earth-analytics'"
      ]
     },
     "execution_count": 5,
     "metadata": {},
     "output_type": "execute_result"
    }
   ],
   "source": [
    "# Set working directory to earth-analytics\n",
    "os.chdir(os.path.join(et.io.HOME, 'earth-analytics'))\n",
    "os.getcwd()"
   ]
  },
  {
   "cell_type": "code",
   "execution_count": 6,
   "metadata": {},
   "outputs": [
    {
     "data": {
      "text/plain": [
       "True"
      ]
     },
     "execution_count": 6,
     "metadata": {},
     "output_type": "execute_result"
    }
   ],
   "source": [
    "# Define relative path to file using os.path.join\n",
    "\n",
    "daily_precip_1948_2013 = os.path.join(\"data\",\"colorado-flood\",\"precipitation\",\n",
    "                                      '805333-precip-daily-1948-2013.csv')\n",
    "# To check if path is created\n",
    "\n",
    "os.path.exists(daily_precip_1948_2013)"
   ]
  },
  {
   "cell_type": "code",
   "execution_count": 7,
   "metadata": {},
   "outputs": [
    {
     "data": {
      "text/html": [
       "<div>\n",
       "<style scoped>\n",
       "    .dataframe tbody tr th:only-of-type {\n",
       "        vertical-align: middle;\n",
       "    }\n",
       "\n",
       "    .dataframe tbody tr th {\n",
       "        vertical-align: top;\n",
       "    }\n",
       "\n",
       "    .dataframe thead th {\n",
       "        text-align: right;\n",
       "    }\n",
       "</style>\n",
       "<table border=\"1\" class=\"dataframe\">\n",
       "  <thead>\n",
       "    <tr style=\"text-align: right;\">\n",
       "      <th></th>\n",
       "      <th>STATION</th>\n",
       "      <th>STATION_NAME</th>\n",
       "      <th>ELEVATION</th>\n",
       "      <th>LATITUDE</th>\n",
       "      <th>LONGITUDE</th>\n",
       "      <th>DATE</th>\n",
       "      <th>HPCP</th>\n",
       "      <th>Measurement Flag</th>\n",
       "      <th>Quality Flag</th>\n",
       "    </tr>\n",
       "  </thead>\n",
       "  <tbody>\n",
       "    <tr>\n",
       "      <th>0</th>\n",
       "      <td>COOP:050843</td>\n",
       "      <td>BOULDER 2 CO US</td>\n",
       "      <td>unknown</td>\n",
       "      <td>unknown</td>\n",
       "      <td>unknown</td>\n",
       "      <td>19480801 01:00</td>\n",
       "      <td>0.00</td>\n",
       "      <td>g</td>\n",
       "      <td></td>\n",
       "    </tr>\n",
       "    <tr>\n",
       "      <th>1</th>\n",
       "      <td>COOP:050843</td>\n",
       "      <td>BOULDER 2 CO US</td>\n",
       "      <td>unknown</td>\n",
       "      <td>unknown</td>\n",
       "      <td>unknown</td>\n",
       "      <td>19480802 15:00</td>\n",
       "      <td>0.05</td>\n",
       "      <td></td>\n",
       "      <td></td>\n",
       "    </tr>\n",
       "    <tr>\n",
       "      <th>2</th>\n",
       "      <td>COOP:050843</td>\n",
       "      <td>BOULDER 2 CO US</td>\n",
       "      <td>unknown</td>\n",
       "      <td>unknown</td>\n",
       "      <td>unknown</td>\n",
       "      <td>19480803 09:00</td>\n",
       "      <td>0.01</td>\n",
       "      <td></td>\n",
       "      <td></td>\n",
       "    </tr>\n",
       "    <tr>\n",
       "      <th>3</th>\n",
       "      <td>COOP:050843</td>\n",
       "      <td>BOULDER 2 CO US</td>\n",
       "      <td>unknown</td>\n",
       "      <td>unknown</td>\n",
       "      <td>unknown</td>\n",
       "      <td>19480803 14:00</td>\n",
       "      <td>0.03</td>\n",
       "      <td></td>\n",
       "      <td></td>\n",
       "    </tr>\n",
       "    <tr>\n",
       "      <th>4</th>\n",
       "      <td>COOP:050843</td>\n",
       "      <td>BOULDER 2 CO US</td>\n",
       "      <td>unknown</td>\n",
       "      <td>unknown</td>\n",
       "      <td>unknown</td>\n",
       "      <td>19480803 15:00</td>\n",
       "      <td>0.03</td>\n",
       "      <td></td>\n",
       "      <td></td>\n",
       "    </tr>\n",
       "  </tbody>\n",
       "</table>\n",
       "</div>"
      ],
      "text/plain": [
       "       STATION     STATION_NAME ELEVATION LATITUDE LONGITUDE            DATE  \\\n",
       "0  COOP:050843  BOULDER 2 CO US   unknown  unknown   unknown  19480801 01:00   \n",
       "1  COOP:050843  BOULDER 2 CO US   unknown  unknown   unknown  19480802 15:00   \n",
       "2  COOP:050843  BOULDER 2 CO US   unknown  unknown   unknown  19480803 09:00   \n",
       "3  COOP:050843  BOULDER 2 CO US   unknown  unknown   unknown  19480803 14:00   \n",
       "4  COOP:050843  BOULDER 2 CO US   unknown  unknown   unknown  19480803 15:00   \n",
       "\n",
       "   HPCP Measurement Flag Quality Flag  \n",
       "0  0.00                g               \n",
       "1  0.05                                \n",
       "2  0.01                                \n",
       "3  0.03                                \n",
       "4  0.03                                "
      ]
     },
     "execution_count": 7,
     "metadata": {},
     "output_type": "execute_result"
    }
   ],
   "source": [
    "daily_precip_1948_2013= pd.read_csv('data/colorado-flood/precipitation/805333-precip-daily-1948-2013.csv')\n",
    "daily_precip_1948_2013.head()"
   ]
  },
  {
   "cell_type": "code",
   "execution_count": 8,
   "metadata": {},
   "outputs": [
    {
     "name": "stdout",
     "output_type": "stream",
     "text": [
      "<class 'pandas.core.frame.DataFrame'>\n",
      "RangeIndex: 14476 entries, 0 to 14475\n",
      "Data columns (total 9 columns):\n",
      "STATION             14476 non-null object\n",
      "STATION_NAME        14476 non-null object\n",
      "ELEVATION           14476 non-null object\n",
      "LATITUDE            14476 non-null object\n",
      "LONGITUDE           14476 non-null object\n",
      "DATE                14476 non-null object\n",
      "HPCP                14476 non-null float64\n",
      "Measurement Flag    14476 non-null object\n",
      "Quality Flag        14476 non-null object\n",
      "dtypes: float64(1), object(8)\n",
      "memory usage: 1018.0+ KB\n"
     ]
    }
   ],
   "source": [
    "daily_precip_1948_2013.info()"
   ]
  },
  {
   "cell_type": "code",
   "execution_count": 9,
   "metadata": {},
   "outputs": [],
   "source": [
    "file_path1 = os.path.join(\"data\", \"colorado-flood\",\n",
    "                         \"precipitation\",\n",
    "                         \"805333-precip-daily-1948-2013.csv\")"
   ]
  },
  {
   "cell_type": "code",
   "execution_count": 10,
   "metadata": {},
   "outputs": [
    {
     "data": {
      "text/html": [
       "<div>\n",
       "<style scoped>\n",
       "    .dataframe tbody tr th:only-of-type {\n",
       "        vertical-align: middle;\n",
       "    }\n",
       "\n",
       "    .dataframe tbody tr th {\n",
       "        vertical-align: top;\n",
       "    }\n",
       "\n",
       "    .dataframe thead th {\n",
       "        text-align: right;\n",
       "    }\n",
       "</style>\n",
       "<table border=\"1\" class=\"dataframe\">\n",
       "  <thead>\n",
       "    <tr style=\"text-align: right;\">\n",
       "      <th></th>\n",
       "      <th>STATION</th>\n",
       "      <th>STATION_NAME</th>\n",
       "      <th>ELEVATION</th>\n",
       "      <th>LATITUDE</th>\n",
       "      <th>LONGITUDE</th>\n",
       "      <th>HPCP</th>\n",
       "      <th>Measurement Flag</th>\n",
       "      <th>Quality Flag</th>\n",
       "    </tr>\n",
       "    <tr>\n",
       "      <th>DATE</th>\n",
       "      <th></th>\n",
       "      <th></th>\n",
       "      <th></th>\n",
       "      <th></th>\n",
       "      <th></th>\n",
       "      <th></th>\n",
       "      <th></th>\n",
       "      <th></th>\n",
       "    </tr>\n",
       "  </thead>\n",
       "  <tbody>\n",
       "    <tr>\n",
       "      <th>1948-08-01 01:00:00</th>\n",
       "      <td>COOP:050843</td>\n",
       "      <td>BOULDER 2 CO US</td>\n",
       "      <td>unknown</td>\n",
       "      <td>unknown</td>\n",
       "      <td>unknown</td>\n",
       "      <td>0.00</td>\n",
       "      <td>g</td>\n",
       "      <td></td>\n",
       "    </tr>\n",
       "    <tr>\n",
       "      <th>1948-08-02 15:00:00</th>\n",
       "      <td>COOP:050843</td>\n",
       "      <td>BOULDER 2 CO US</td>\n",
       "      <td>unknown</td>\n",
       "      <td>unknown</td>\n",
       "      <td>unknown</td>\n",
       "      <td>0.05</td>\n",
       "      <td></td>\n",
       "      <td></td>\n",
       "    </tr>\n",
       "    <tr>\n",
       "      <th>1948-08-03 09:00:00</th>\n",
       "      <td>COOP:050843</td>\n",
       "      <td>BOULDER 2 CO US</td>\n",
       "      <td>unknown</td>\n",
       "      <td>unknown</td>\n",
       "      <td>unknown</td>\n",
       "      <td>0.01</td>\n",
       "      <td></td>\n",
       "      <td></td>\n",
       "    </tr>\n",
       "    <tr>\n",
       "      <th>1948-08-03 14:00:00</th>\n",
       "      <td>COOP:050843</td>\n",
       "      <td>BOULDER 2 CO US</td>\n",
       "      <td>unknown</td>\n",
       "      <td>unknown</td>\n",
       "      <td>unknown</td>\n",
       "      <td>0.03</td>\n",
       "      <td></td>\n",
       "      <td></td>\n",
       "    </tr>\n",
       "    <tr>\n",
       "      <th>1948-08-03 15:00:00</th>\n",
       "      <td>COOP:050843</td>\n",
       "      <td>BOULDER 2 CO US</td>\n",
       "      <td>unknown</td>\n",
       "      <td>unknown</td>\n",
       "      <td>unknown</td>\n",
       "      <td>0.03</td>\n",
       "      <td></td>\n",
       "      <td></td>\n",
       "    </tr>\n",
       "  </tbody>\n",
       "</table>\n",
       "</div>"
      ],
      "text/plain": [
       "                         STATION     STATION_NAME ELEVATION LATITUDE  \\\n",
       "DATE                                                                   \n",
       "1948-08-01 01:00:00  COOP:050843  BOULDER 2 CO US   unknown  unknown   \n",
       "1948-08-02 15:00:00  COOP:050843  BOULDER 2 CO US   unknown  unknown   \n",
       "1948-08-03 09:00:00  COOP:050843  BOULDER 2 CO US   unknown  unknown   \n",
       "1948-08-03 14:00:00  COOP:050843  BOULDER 2 CO US   unknown  unknown   \n",
       "1948-08-03 15:00:00  COOP:050843  BOULDER 2 CO US   unknown  unknown   \n",
       "\n",
       "                    LONGITUDE  HPCP Measurement Flag Quality Flag  \n",
       "DATE                                                               \n",
       "1948-08-01 01:00:00   unknown  0.00                g               \n",
       "1948-08-02 15:00:00   unknown  0.05                                \n",
       "1948-08-03 09:00:00   unknown  0.01                                \n",
       "1948-08-03 14:00:00   unknown  0.03                                \n",
       "1948-08-03 15:00:00   unknown  0.03                                "
      ]
     },
     "execution_count": 10,
     "metadata": {},
     "output_type": "execute_result"
    }
   ],
   "source": [
    "# To import csv file as a panda dataframe.\n",
    "boulder_precip_1948_2013 = pd.read_csv(file_path1,\n",
    "                                      parse_dates=['DATE'],\n",
    "                                       index_col= ['DATE'],\n",
    "                                       na_values=['999.99'])\n",
    "\n",
    "# View first few rows\n",
    "boulder_precip_1948_2013.head()"
   ]
  },
  {
   "cell_type": "code",
   "execution_count": 44,
   "metadata": {},
   "outputs": [
    {
     "data": {
      "text/html": [
       "<div>\n",
       "<style scoped>\n",
       "    .dataframe tbody tr th:only-of-type {\n",
       "        vertical-align: middle;\n",
       "    }\n",
       "\n",
       "    .dataframe tbody tr th {\n",
       "        vertical-align: top;\n",
       "    }\n",
       "\n",
       "    .dataframe thead th {\n",
       "        text-align: right;\n",
       "    }\n",
       "</style>\n",
       "<table border=\"1\" class=\"dataframe\">\n",
       "  <thead>\n",
       "    <tr style=\"text-align: right;\">\n",
       "      <th></th>\n",
       "      <th>STATION</th>\n",
       "      <th>STATION_NAME</th>\n",
       "      <th>ELEVATION</th>\n",
       "      <th>LATITUDE</th>\n",
       "      <th>LONGITUDE</th>\n",
       "      <th>HPCP</th>\n",
       "      <th>Measurement Flag</th>\n",
       "      <th>Quality Flag</th>\n",
       "    </tr>\n",
       "    <tr>\n",
       "      <th>DATE</th>\n",
       "      <th></th>\n",
       "      <th></th>\n",
       "      <th></th>\n",
       "      <th></th>\n",
       "      <th></th>\n",
       "      <th></th>\n",
       "      <th></th>\n",
       "      <th></th>\n",
       "    </tr>\n",
       "  </thead>\n",
       "  <tbody>\n",
       "    <tr>\n",
       "      <th>1948-08-01 01:00:00</th>\n",
       "      <td>COOP:050843</td>\n",
       "      <td>BOULDER 2 CO US</td>\n",
       "      <td>unknown</td>\n",
       "      <td>unknown</td>\n",
       "      <td>unknown</td>\n",
       "      <td>0.00</td>\n",
       "      <td>g</td>\n",
       "      <td></td>\n",
       "    </tr>\n",
       "    <tr>\n",
       "      <th>1948-08-02 15:00:00</th>\n",
       "      <td>COOP:050843</td>\n",
       "      <td>BOULDER 2 CO US</td>\n",
       "      <td>unknown</td>\n",
       "      <td>unknown</td>\n",
       "      <td>unknown</td>\n",
       "      <td>0.05</td>\n",
       "      <td></td>\n",
       "      <td></td>\n",
       "    </tr>\n",
       "    <tr>\n",
       "      <th>1948-08-03 09:00:00</th>\n",
       "      <td>COOP:050843</td>\n",
       "      <td>BOULDER 2 CO US</td>\n",
       "      <td>unknown</td>\n",
       "      <td>unknown</td>\n",
       "      <td>unknown</td>\n",
       "      <td>0.01</td>\n",
       "      <td></td>\n",
       "      <td></td>\n",
       "    </tr>\n",
       "    <tr>\n",
       "      <th>1948-08-03 14:00:00</th>\n",
       "      <td>COOP:050843</td>\n",
       "      <td>BOULDER 2 CO US</td>\n",
       "      <td>unknown</td>\n",
       "      <td>unknown</td>\n",
       "      <td>unknown</td>\n",
       "      <td>0.03</td>\n",
       "      <td></td>\n",
       "      <td></td>\n",
       "    </tr>\n",
       "    <tr>\n",
       "      <th>1948-08-03 15:00:00</th>\n",
       "      <td>COOP:050843</td>\n",
       "      <td>BOULDER 2 CO US</td>\n",
       "      <td>unknown</td>\n",
       "      <td>unknown</td>\n",
       "      <td>unknown</td>\n",
       "      <td>0.03</td>\n",
       "      <td></td>\n",
       "      <td></td>\n",
       "    </tr>\n",
       "    <tr>\n",
       "      <th>...</th>\n",
       "      <td>...</td>\n",
       "      <td>...</td>\n",
       "      <td>...</td>\n",
       "      <td>...</td>\n",
       "      <td>...</td>\n",
       "      <td>...</td>\n",
       "      <td>...</td>\n",
       "      <td>...</td>\n",
       "    </tr>\n",
       "    <tr>\n",
       "      <th>2013-12-22 01:00:00</th>\n",
       "      <td>COOP:050843</td>\n",
       "      <td>BOULDER 2 CO US</td>\n",
       "      <td>1650.5</td>\n",
       "      <td>40.0338</td>\n",
       "      <td>-105.2811</td>\n",
       "      <td>NaN</td>\n",
       "      <td>[</td>\n",
       "      <td></td>\n",
       "    </tr>\n",
       "    <tr>\n",
       "      <th>2013-12-23 00:00:00</th>\n",
       "      <td>COOP:050843</td>\n",
       "      <td>BOULDER 2 CO US</td>\n",
       "      <td>1650.5</td>\n",
       "      <td>40.0338</td>\n",
       "      <td>-105.2811</td>\n",
       "      <td>NaN</td>\n",
       "      <td>]</td>\n",
       "      <td></td>\n",
       "    </tr>\n",
       "    <tr>\n",
       "      <th>2013-12-23 02:00:00</th>\n",
       "      <td>COOP:050843</td>\n",
       "      <td>BOULDER 2 CO US</td>\n",
       "      <td>1650.5</td>\n",
       "      <td>40.0338</td>\n",
       "      <td>-105.2811</td>\n",
       "      <td>0.10</td>\n",
       "      <td></td>\n",
       "      <td></td>\n",
       "    </tr>\n",
       "    <tr>\n",
       "      <th>2013-12-29 01:00:00</th>\n",
       "      <td>COOP:050843</td>\n",
       "      <td>BOULDER 2 CO US</td>\n",
       "      <td>1650.5</td>\n",
       "      <td>40.0338</td>\n",
       "      <td>-105.2811</td>\n",
       "      <td>NaN</td>\n",
       "      <td>[</td>\n",
       "      <td></td>\n",
       "    </tr>\n",
       "    <tr>\n",
       "      <th>2013-12-31 00:00:00</th>\n",
       "      <td>COOP:050843</td>\n",
       "      <td>BOULDER 2 CO US</td>\n",
       "      <td>1650.5</td>\n",
       "      <td>40.0338</td>\n",
       "      <td>-105.2811</td>\n",
       "      <td>NaN</td>\n",
       "      <td>]</td>\n",
       "      <td></td>\n",
       "    </tr>\n",
       "  </tbody>\n",
       "</table>\n",
       "<p>14476 rows × 8 columns</p>\n",
       "</div>"
      ],
      "text/plain": [
       "                         STATION     STATION_NAME ELEVATION LATITUDE  \\\n",
       "DATE                                                                   \n",
       "1948-08-01 01:00:00  COOP:050843  BOULDER 2 CO US   unknown  unknown   \n",
       "1948-08-02 15:00:00  COOP:050843  BOULDER 2 CO US   unknown  unknown   \n",
       "1948-08-03 09:00:00  COOP:050843  BOULDER 2 CO US   unknown  unknown   \n",
       "1948-08-03 14:00:00  COOP:050843  BOULDER 2 CO US   unknown  unknown   \n",
       "1948-08-03 15:00:00  COOP:050843  BOULDER 2 CO US   unknown  unknown   \n",
       "...                          ...              ...       ...      ...   \n",
       "2013-12-22 01:00:00  COOP:050843  BOULDER 2 CO US    1650.5  40.0338   \n",
       "2013-12-23 00:00:00  COOP:050843  BOULDER 2 CO US    1650.5  40.0338   \n",
       "2013-12-23 02:00:00  COOP:050843  BOULDER 2 CO US    1650.5  40.0338   \n",
       "2013-12-29 01:00:00  COOP:050843  BOULDER 2 CO US    1650.5  40.0338   \n",
       "2013-12-31 00:00:00  COOP:050843  BOULDER 2 CO US    1650.5  40.0338   \n",
       "\n",
       "                     LONGITUDE  HPCP Measurement Flag Quality Flag  \n",
       "DATE                                                                \n",
       "1948-08-01 01:00:00    unknown  0.00                g               \n",
       "1948-08-02 15:00:00    unknown  0.05                                \n",
       "1948-08-03 09:00:00    unknown  0.01                                \n",
       "1948-08-03 14:00:00    unknown  0.03                                \n",
       "1948-08-03 15:00:00    unknown  0.03                                \n",
       "...                        ...   ...              ...          ...  \n",
       "2013-12-22 01:00:00  -105.2811   NaN                [               \n",
       "2013-12-23 00:00:00  -105.2811   NaN                ]               \n",
       "2013-12-23 02:00:00  -105.2811  0.10                                \n",
       "2013-12-29 01:00:00  -105.2811   NaN                [               \n",
       "2013-12-31 00:00:00  -105.2811   NaN                ]               \n",
       "\n",
       "[14476 rows x 8 columns]"
      ]
     },
     "execution_count": 44,
     "metadata": {},
     "output_type": "execute_result"
    }
   ],
   "source": [
    "boulder_precip_1948_2013"
   ]
  },
  {
   "cell_type": "code",
   "execution_count": 89,
   "metadata": {},
   "outputs": [
    {
     "data": {
      "text/html": [
       "<div>\n",
       "<style scoped>\n",
       "    .dataframe tbody tr th:only-of-type {\n",
       "        vertical-align: middle;\n",
       "    }\n",
       "\n",
       "    .dataframe tbody tr th {\n",
       "        vertical-align: top;\n",
       "    }\n",
       "\n",
       "    .dataframe thead th {\n",
       "        text-align: right;\n",
       "    }\n",
       "</style>\n",
       "<table border=\"1\" class=\"dataframe\">\n",
       "  <thead>\n",
       "    <tr style=\"text-align: right;\">\n",
       "      <th></th>\n",
       "      <th>HPCP</th>\n",
       "    </tr>\n",
       "    <tr>\n",
       "      <th>DATE</th>\n",
       "      <th></th>\n",
       "    </tr>\n",
       "  </thead>\n",
       "  <tbody>\n",
       "    <tr>\n",
       "      <th>1980-01-01 01:00:00</th>\n",
       "      <td>0.0</td>\n",
       "    </tr>\n",
       "    <tr>\n",
       "      <th>1980-01-01 02:00:00</th>\n",
       "      <td>0.0</td>\n",
       "    </tr>\n",
       "    <tr>\n",
       "      <th>1980-01-01 03:00:00</th>\n",
       "      <td>0.0</td>\n",
       "    </tr>\n",
       "    <tr>\n",
       "      <th>1980-01-01 04:00:00</th>\n",
       "      <td>0.0</td>\n",
       "    </tr>\n",
       "    <tr>\n",
       "      <th>1980-01-01 05:00:00</th>\n",
       "      <td>0.0</td>\n",
       "    </tr>\n",
       "    <tr>\n",
       "      <th>...</th>\n",
       "      <td>...</td>\n",
       "    </tr>\n",
       "    <tr>\n",
       "      <th>1980-12-24 08:00:00</th>\n",
       "      <td>0.0</td>\n",
       "    </tr>\n",
       "    <tr>\n",
       "      <th>1980-12-24 09:00:00</th>\n",
       "      <td>0.0</td>\n",
       "    </tr>\n",
       "    <tr>\n",
       "      <th>1980-12-24 10:00:00</th>\n",
       "      <td>0.0</td>\n",
       "    </tr>\n",
       "    <tr>\n",
       "      <th>1980-12-24 11:00:00</th>\n",
       "      <td>0.0</td>\n",
       "    </tr>\n",
       "    <tr>\n",
       "      <th>1980-12-24 12:00:00</th>\n",
       "      <td>0.1</td>\n",
       "    </tr>\n",
       "  </tbody>\n",
       "</table>\n",
       "<p>8604 rows × 1 columns</p>\n",
       "</div>"
      ],
      "text/plain": [
       "                     HPCP\n",
       "DATE                     \n",
       "1980-01-01 01:00:00   0.0\n",
       "1980-01-01 02:00:00   0.0\n",
       "1980-01-01 03:00:00   0.0\n",
       "1980-01-01 04:00:00   0.0\n",
       "1980-01-01 05:00:00   0.0\n",
       "...                   ...\n",
       "1980-12-24 08:00:00   0.0\n",
       "1980-12-24 09:00:00   0.0\n",
       "1980-12-24 10:00:00   0.0\n",
       "1980-12-24 11:00:00   0.0\n",
       "1980-12-24 12:00:00   0.1\n",
       "\n",
       "[8604 rows x 1 columns]"
      ]
     },
     "execution_count": 89,
     "metadata": {},
     "output_type": "execute_result"
    }
   ],
   "source": [
    "precip_1980= (boulder_precip_1948_2013['1980-01-01':'1980-12-30']\n",
    "                       .resample('H').sum())\n",
    "precip_1980"
   ]
  },
  {
   "cell_type": "code",
   "execution_count": 90,
   "metadata": {},
   "outputs": [
    {
     "name": "stdout",
     "output_type": "stream",
     "text": [
      "<class 'pandas.core.frame.DataFrame'>\n",
      "DatetimeIndex: 8604 entries, 1980-01-01 01:00:00 to 1980-12-24 12:00:00\n",
      "Freq: H\n",
      "Data columns (total 1 columns):\n",
      "HPCP    8604 non-null float64\n",
      "dtypes: float64(1)\n",
      "memory usage: 134.4 KB\n"
     ]
    }
   ],
   "source": [
    "precip_1980.info()"
   ]
  },
  {
   "cell_type": "code",
   "execution_count": 88,
   "metadata": {},
   "outputs": [
    {
     "name": "stdout",
     "output_type": "stream",
     "text": [
      "<class 'pandas.core.frame.DataFrame'>\n",
      "DatetimeIndex: 8390 entries, 1950-01-01 01:00:00 to 1950-12-16 14:00:00\n",
      "Freq: H\n",
      "Data columns (total 1 columns):\n",
      "HPCP    8390 non-null float64\n",
      "dtypes: float64(1)\n",
      "memory usage: 131.1 KB\n"
     ]
    }
   ],
   "source": [
    "precip_1950= (boulder_precip_1948_2013['1950-01-01':'1950-12-30']\n",
    "                       .resample('H').sum())\n",
    "precip_1950.info()"
   ]
  },
  {
   "cell_type": "code",
   "execution_count": 81,
   "metadata": {},
   "outputs": [
    {
     "name": "stdout",
     "output_type": "stream",
     "text": [
      "<class 'pandas.core.frame.DataFrame'>\n",
      "RangeIndex: 14075 entries, 0 to 14074\n",
      "Data columns (total 8 columns):\n",
      "STATION             14075 non-null object\n",
      "STATION_NAME        14075 non-null object\n",
      "ELEVATION           14075 non-null object\n",
      "LATITUDE            14075 non-null object\n",
      "LONGITUDE           14075 non-null object\n",
      "HPCP                14075 non-null float64\n",
      "Measurement Flag    14075 non-null object\n",
      "Quality Flag        14075 non-null object\n",
      "dtypes: float64(1), object(7)\n",
      "memory usage: 879.8+ KB\n"
     ]
    }
   ],
   "source": [
    "data1= boulder_precip_1948_2013.dropna()\n",
    "data2 = data1.reset_index(drop=True)\n",
    "data2.info()"
   ]
  },
  {
   "cell_type": "code",
   "execution_count": null,
   "metadata": {},
   "outputs": [],
   "source": []
  },
  {
   "cell_type": "code",
   "execution_count": 78,
   "metadata": {},
   "outputs": [
    {
     "name": "stdout",
     "output_type": "stream",
     "text": [
      "<class 'pandas.core.frame.DataFrame'>\n",
      "DatetimeIndex: 0 entries\n",
      "Data columns (total 8 columns):\n",
      "STATION             0 non-null float64\n",
      "STATION_NAME        0 non-null float64\n",
      "ELEVATION           0 non-null float64\n",
      "LATITUDE            0 non-null float64\n",
      "LONGITUDE           0 non-null float64\n",
      "HPCP                0 non-null float64\n",
      "Measurement Flag    0 non-null float64\n",
      "Quality Flag        0 non-null float64\n",
      "dtypes: float64(8)\n",
      "memory usage: 0.0 bytes\n"
     ]
    }
   ],
   "source": [
    "df = data1.apply (pd.to_numeric, errors='coerce')\n",
    "df = df.dropna()\n",
    "df.info()"
   ]
  },
  {
   "cell_type": "code",
   "execution_count": 79,
   "metadata": {},
   "outputs": [
    {
     "name": "stdout",
     "output_type": "stream",
     "text": [
      "<class 'pandas.core.frame.DataFrame'>\n",
      "DatetimeIndex: 14075 entries, 1948-08-01 01:00:00 to 2013-12-23 02:00:00\n",
      "Data columns (total 8 columns):\n",
      "STATION             14075 non-null object\n",
      "STATION_NAME        14075 non-null object\n",
      "ELEVATION           14075 non-null object\n",
      "LATITUDE            14075 non-null object\n",
      "LONGITUDE           14075 non-null object\n",
      "HPCP                14075 non-null float64\n",
      "Measurement Flag    14075 non-null object\n",
      "Quality Flag        14075 non-null object\n",
      "dtypes: float64(1), object(7)\n",
      "memory usage: 989.6+ KB\n"
     ]
    }
   ],
   "source": [
    "data1 = boulder_precip_1948_2013[boulder_precip_1948_2013['HPCP'].notnull()]\n",
    "data1.info()"
   ]
  },
  {
   "cell_type": "code",
   "execution_count": 48,
   "metadata": {},
   "outputs": [
    {
     "name": "stdout",
     "output_type": "stream",
     "text": [
      "<class 'pandas.core.frame.DataFrame'>\n",
      "DatetimeIndex: 14075 entries, 1948-08-01 01:00:00 to 2013-12-23 02:00:00\n",
      "Data columns (total 8 columns):\n",
      "STATION             14075 non-null object\n",
      "STATION_NAME        14075 non-null object\n",
      "ELEVATION           14075 non-null object\n",
      "LATITUDE            14075 non-null object\n",
      "LONGITUDE           14075 non-null object\n",
      "HPCP                14075 non-null float64\n",
      "Measurement Flag    14075 non-null object\n",
      "Quality Flag        14075 non-null object\n",
      "dtypes: float64(1), object(7)\n",
      "memory usage: 989.6+ KB\n"
     ]
    }
   ],
   "source": [
    "data = boulder_precip_1948_2013.dropna(subset=['HPCP'])\n",
    "data.info()"
   ]
  },
  {
   "cell_type": "code",
   "execution_count": 30,
   "metadata": {},
   "outputs": [
    {
     "name": "stdout",
     "output_type": "stream",
     "text": [
      "<class 'pandas.core.frame.DataFrame'>\n",
      "DatetimeIndex: 14476 entries, 1948-08-01 01:00:00 to 2013-12-31 00:00:00\n",
      "Data columns (total 8 columns):\n",
      "STATION             14476 non-null object\n",
      "STATION_NAME        14476 non-null object\n",
      "ELEVATION           14476 non-null object\n",
      "LATITUDE            14476 non-null object\n",
      "LONGITUDE           14476 non-null object\n",
      "HPCP                14075 non-null float64\n",
      "Measurement Flag    14476 non-null object\n",
      "Quality Flag        14476 non-null object\n",
      "dtypes: float64(1), object(7)\n",
      "memory usage: 1017.8+ KB\n"
     ]
    }
   ],
   "source": [
    "boulder_precip_1948_2013.info()"
   ]
  },
  {
   "cell_type": "code",
   "execution_count": 42,
   "metadata": {},
   "outputs": [],
   "source": [
    "type(boulder_precip_1948_2013)\n",
    "boulder_precip_1948_2013.to_csv(\"output.csv\", index=False, header=False)"
   ]
  },
  {
   "cell_type": "code",
   "execution_count": 32,
   "metadata": {},
   "outputs": [
    {
     "data": {
      "text/html": [
       "<div>\n",
       "<style scoped>\n",
       "    .dataframe tbody tr th:only-of-type {\n",
       "        vertical-align: middle;\n",
       "    }\n",
       "\n",
       "    .dataframe tbody tr th {\n",
       "        vertical-align: top;\n",
       "    }\n",
       "\n",
       "    .dataframe thead th {\n",
       "        text-align: right;\n",
       "    }\n",
       "</style>\n",
       "<table border=\"1\" class=\"dataframe\">\n",
       "  <thead>\n",
       "    <tr style=\"text-align: right;\">\n",
       "      <th></th>\n",
       "      <th>HPCP</th>\n",
       "    </tr>\n",
       "  </thead>\n",
       "  <tbody>\n",
       "    <tr>\n",
       "      <th>count</th>\n",
       "      <td>14075.000000</td>\n",
       "    </tr>\n",
       "    <tr>\n",
       "      <th>mean</th>\n",
       "      <td>0.082716</td>\n",
       "    </tr>\n",
       "    <tr>\n",
       "      <th>std</th>\n",
       "      <td>0.115928</td>\n",
       "    </tr>\n",
       "    <tr>\n",
       "      <th>min</th>\n",
       "      <td>0.000000</td>\n",
       "    </tr>\n",
       "    <tr>\n",
       "      <th>25%</th>\n",
       "      <td>0.020000</td>\n",
       "    </tr>\n",
       "    <tr>\n",
       "      <th>50%</th>\n",
       "      <td>0.100000</td>\n",
       "    </tr>\n",
       "    <tr>\n",
       "      <th>75%</th>\n",
       "      <td>0.100000</td>\n",
       "    </tr>\n",
       "    <tr>\n",
       "      <th>max</th>\n",
       "      <td>2.720000</td>\n",
       "    </tr>\n",
       "  </tbody>\n",
       "</table>\n",
       "</div>"
      ],
      "text/plain": [
       "               HPCP\n",
       "count  14075.000000\n",
       "mean       0.082716\n",
       "std        0.115928\n",
       "min        0.000000\n",
       "25%        0.020000\n",
       "50%        0.100000\n",
       "75%        0.100000\n",
       "max        2.720000"
      ]
     },
     "execution_count": 32,
     "metadata": {},
     "output_type": "execute_result"
    }
   ],
   "source": [
    "boulder_precip_1948_2013.describe()"
   ]
  },
  {
   "cell_type": "code",
   "execution_count": 83,
   "metadata": {},
   "outputs": [
    {
     "data": {
      "text/html": [
       "<div>\n",
       "<style scoped>\n",
       "    .dataframe tbody tr th:only-of-type {\n",
       "        vertical-align: middle;\n",
       "    }\n",
       "\n",
       "    .dataframe tbody tr th {\n",
       "        vertical-align: top;\n",
       "    }\n",
       "\n",
       "    .dataframe thead th {\n",
       "        text-align: right;\n",
       "    }\n",
       "</style>\n",
       "<table border=\"1\" class=\"dataframe\">\n",
       "  <thead>\n",
       "    <tr style=\"text-align: right;\">\n",
       "      <th></th>\n",
       "      <th>HPCP</th>\n",
       "    </tr>\n",
       "    <tr>\n",
       "      <th>DATE</th>\n",
       "      <th></th>\n",
       "    </tr>\n",
       "  </thead>\n",
       "  <tbody>\n",
       "    <tr>\n",
       "      <th>1948-08-01 01:00:00</th>\n",
       "      <td>0.0</td>\n",
       "    </tr>\n",
       "    <tr>\n",
       "      <th>1948-08-01 02:00:00</th>\n",
       "      <td>0.0</td>\n",
       "    </tr>\n",
       "    <tr>\n",
       "      <th>1948-08-01 03:00:00</th>\n",
       "      <td>0.0</td>\n",
       "    </tr>\n",
       "    <tr>\n",
       "      <th>1948-08-01 04:00:00</th>\n",
       "      <td>0.0</td>\n",
       "    </tr>\n",
       "    <tr>\n",
       "      <th>1948-08-01 05:00:00</th>\n",
       "      <td>0.0</td>\n",
       "    </tr>\n",
       "    <tr>\n",
       "      <th>...</th>\n",
       "      <td>...</td>\n",
       "    </tr>\n",
       "    <tr>\n",
       "      <th>2013-12-22 22:00:00</th>\n",
       "      <td>0.0</td>\n",
       "    </tr>\n",
       "    <tr>\n",
       "      <th>2013-12-22 23:00:00</th>\n",
       "      <td>0.0</td>\n",
       "    </tr>\n",
       "    <tr>\n",
       "      <th>2013-12-23 00:00:00</th>\n",
       "      <td>0.0</td>\n",
       "    </tr>\n",
       "    <tr>\n",
       "      <th>2013-12-23 01:00:00</th>\n",
       "      <td>0.0</td>\n",
       "    </tr>\n",
       "    <tr>\n",
       "      <th>2013-12-23 02:00:00</th>\n",
       "      <td>0.1</td>\n",
       "    </tr>\n",
       "  </tbody>\n",
       "</table>\n",
       "<p>573242 rows × 1 columns</p>\n",
       "</div>"
      ],
      "text/plain": [
       "                     HPCP\n",
       "DATE                     \n",
       "1948-08-01 01:00:00   0.0\n",
       "1948-08-01 02:00:00   0.0\n",
       "1948-08-01 03:00:00   0.0\n",
       "1948-08-01 04:00:00   0.0\n",
       "1948-08-01 05:00:00   0.0\n",
       "...                   ...\n",
       "2013-12-22 22:00:00   0.0\n",
       "2013-12-22 23:00:00   0.0\n",
       "2013-12-23 00:00:00   0.0\n",
       "2013-12-23 01:00:00   0.0\n",
       "2013-12-23 02:00:00   0.1\n",
       "\n",
       "[573242 rows x 1 columns]"
      ]
     },
     "execution_count": 83,
     "metadata": {},
     "output_type": "execute_result"
    }
   ],
   "source": [
    "precip_hourly = (data1.resample('H').sum())\n",
    "precip_hourly"
   ]
  },
  {
   "cell_type": "code",
   "execution_count": 84,
   "metadata": {},
   "outputs": [
    {
     "name": "stdout",
     "output_type": "stream",
     "text": [
      "<class 'pandas.core.frame.DataFrame'>\n",
      "DatetimeIndex: 573242 entries, 1948-08-01 01:00:00 to 2013-12-23 02:00:00\n",
      "Freq: H\n",
      "Data columns (total 1 columns):\n",
      "HPCP    573242 non-null float64\n",
      "dtypes: float64(1)\n",
      "memory usage: 8.7 MB\n"
     ]
    }
   ],
   "source": [
    "data = precip_hourly.dropna(subset=['HPCP'])\n",
    "data = data[np.isfinite(data['HPCP'])]\n",
    "\n",
    "data.reset_index() \n",
    "data.info()"
   ]
  },
  {
   "cell_type": "code",
   "execution_count": 71,
   "metadata": {},
   "outputs": [
    {
     "name": "stdout",
     "output_type": "stream",
     "text": [
      "<class 'pandas.core.frame.DataFrame'>\n",
      "DatetimeIndex: 573242 entries, 1948-08-01 01:00:00 to 2013-12-23 02:00:00\n",
      "Freq: H\n",
      "Data columns (total 1 columns):\n",
      "HPCP    573242 non-null float64\n",
      "dtypes: float64(1)\n",
      "memory usage: 8.7 MB\n"
     ]
    }
   ],
   "source": [
    "precip_hourly.info()"
   ]
  },
  {
   "cell_type": "code",
   "execution_count": 33,
   "metadata": {},
   "outputs": [
    {
     "data": {
      "text/html": [
       "<div>\n",
       "<style scoped>\n",
       "    .dataframe tbody tr th:only-of-type {\n",
       "        vertical-align: middle;\n",
       "    }\n",
       "\n",
       "    .dataframe tbody tr th {\n",
       "        vertical-align: top;\n",
       "    }\n",
       "\n",
       "    .dataframe thead th {\n",
       "        text-align: right;\n",
       "    }\n",
       "</style>\n",
       "<table border=\"1\" class=\"dataframe\">\n",
       "  <thead>\n",
       "    <tr style=\"text-align: right;\">\n",
       "      <th></th>\n",
       "      <th>HPCP</th>\n",
       "    </tr>\n",
       "  </thead>\n",
       "  <tbody>\n",
       "    <tr>\n",
       "      <th>count</th>\n",
       "      <td>573432.000000</td>\n",
       "    </tr>\n",
       "    <tr>\n",
       "      <th>mean</th>\n",
       "      <td>0.002030</td>\n",
       "    </tr>\n",
       "    <tr>\n",
       "      <th>std</th>\n",
       "      <td>0.022218</td>\n",
       "    </tr>\n",
       "    <tr>\n",
       "      <th>min</th>\n",
       "      <td>0.000000</td>\n",
       "    </tr>\n",
       "    <tr>\n",
       "      <th>25%</th>\n",
       "      <td>0.000000</td>\n",
       "    </tr>\n",
       "    <tr>\n",
       "      <th>50%</th>\n",
       "      <td>0.000000</td>\n",
       "    </tr>\n",
       "    <tr>\n",
       "      <th>75%</th>\n",
       "      <td>0.000000</td>\n",
       "    </tr>\n",
       "    <tr>\n",
       "      <th>max</th>\n",
       "      <td>2.720000</td>\n",
       "    </tr>\n",
       "  </tbody>\n",
       "</table>\n",
       "</div>"
      ],
      "text/plain": [
       "                HPCP\n",
       "count  573432.000000\n",
       "mean        0.002030\n",
       "std         0.022218\n",
       "min         0.000000\n",
       "25%         0.000000\n",
       "50%         0.000000\n",
       "75%         0.000000\n",
       "max         2.720000"
      ]
     },
     "execution_count": 33,
     "metadata": {},
     "output_type": "execute_result"
    }
   ],
   "source": [
    "precip_hourly.describe()"
   ]
  },
  {
   "cell_type": "code",
   "execution_count": 12,
   "metadata": {},
   "outputs": [
    {
     "data": {
      "text/html": [
       "<div>\n",
       "<style scoped>\n",
       "    .dataframe tbody tr th:only-of-type {\n",
       "        vertical-align: middle;\n",
       "    }\n",
       "\n",
       "    .dataframe tbody tr th {\n",
       "        vertical-align: top;\n",
       "    }\n",
       "\n",
       "    .dataframe thead th {\n",
       "        text-align: right;\n",
       "    }\n",
       "</style>\n",
       "<table border=\"1\" class=\"dataframe\">\n",
       "  <thead>\n",
       "    <tr style=\"text-align: right;\">\n",
       "      <th></th>\n",
       "      <th>HPCP</th>\n",
       "    </tr>\n",
       "    <tr>\n",
       "      <th>DATE</th>\n",
       "      <th></th>\n",
       "    </tr>\n",
       "  </thead>\n",
       "  <tbody>\n",
       "    <tr>\n",
       "      <th>1948-08-01</th>\n",
       "      <td>0.00</td>\n",
       "    </tr>\n",
       "    <tr>\n",
       "      <th>1948-08-02</th>\n",
       "      <td>0.05</td>\n",
       "    </tr>\n",
       "    <tr>\n",
       "      <th>1948-08-03</th>\n",
       "      <td>0.07</td>\n",
       "    </tr>\n",
       "    <tr>\n",
       "      <th>1948-08-04</th>\n",
       "      <td>0.14</td>\n",
       "    </tr>\n",
       "    <tr>\n",
       "      <th>1948-08-05</th>\n",
       "      <td>0.02</td>\n",
       "    </tr>\n",
       "  </tbody>\n",
       "</table>\n",
       "</div>"
      ],
      "text/plain": [
       "            HPCP\n",
       "DATE            \n",
       "1948-08-01  0.00\n",
       "1948-08-02  0.05\n",
       "1948-08-03  0.07\n",
       "1948-08-04  0.14\n",
       "1948-08-05  0.02"
      ]
     },
     "execution_count": 12,
     "metadata": {},
     "output_type": "execute_result"
    }
   ],
   "source": [
    "precip_daily = (boulder_precip_1948_2013.resample('D').sum())\n",
    "precip_daily.head()"
   ]
  },
  {
   "cell_type": "code",
   "execution_count": 34,
   "metadata": {},
   "outputs": [
    {
     "name": "stdout",
     "output_type": "stream",
     "text": [
      "<class 'pandas.core.frame.DataFrame'>\n",
      "DatetimeIndex: 23894 entries, 1948-08-01 to 2013-12-31\n",
      "Freq: D\n",
      "Data columns (total 1 columns):\n",
      "HPCP    23894 non-null float64\n",
      "dtypes: float64(1)\n",
      "memory usage: 373.3 KB\n"
     ]
    }
   ],
   "source": [
    "precip_daily.info()"
   ]
  },
  {
   "cell_type": "code",
   "execution_count": 35,
   "metadata": {},
   "outputs": [
    {
     "data": {
      "text/html": [
       "<div>\n",
       "<style scoped>\n",
       "    .dataframe tbody tr th:only-of-type {\n",
       "        vertical-align: middle;\n",
       "    }\n",
       "\n",
       "    .dataframe tbody tr th {\n",
       "        vertical-align: top;\n",
       "    }\n",
       "\n",
       "    .dataframe thead th {\n",
       "        text-align: right;\n",
       "    }\n",
       "</style>\n",
       "<table border=\"1\" class=\"dataframe\">\n",
       "  <thead>\n",
       "    <tr style=\"text-align: right;\">\n",
       "      <th></th>\n",
       "      <th>HPCP</th>\n",
       "    </tr>\n",
       "  </thead>\n",
       "  <tbody>\n",
       "    <tr>\n",
       "      <th>count</th>\n",
       "      <td>23894.000000</td>\n",
       "    </tr>\n",
       "    <tr>\n",
       "      <th>mean</th>\n",
       "      <td>0.048725</td>\n",
       "    </tr>\n",
       "    <tr>\n",
       "      <th>std</th>\n",
       "      <td>0.185933</td>\n",
       "    </tr>\n",
       "    <tr>\n",
       "      <th>min</th>\n",
       "      <td>0.000000</td>\n",
       "    </tr>\n",
       "    <tr>\n",
       "      <th>25%</th>\n",
       "      <td>0.000000</td>\n",
       "    </tr>\n",
       "    <tr>\n",
       "      <th>50%</th>\n",
       "      <td>0.000000</td>\n",
       "    </tr>\n",
       "    <tr>\n",
       "      <th>75%</th>\n",
       "      <td>0.000000</td>\n",
       "    </tr>\n",
       "    <tr>\n",
       "      <th>max</th>\n",
       "      <td>7.300000</td>\n",
       "    </tr>\n",
       "  </tbody>\n",
       "</table>\n",
       "</div>"
      ],
      "text/plain": [
       "               HPCP\n",
       "count  23894.000000\n",
       "mean       0.048725\n",
       "std        0.185933\n",
       "min        0.000000\n",
       "25%        0.000000\n",
       "50%        0.000000\n",
       "75%        0.000000\n",
       "max        7.300000"
      ]
     },
     "execution_count": 35,
     "metadata": {},
     "output_type": "execute_result"
    }
   ],
   "source": [
    "precip_daily.describe()"
   ]
  },
  {
   "cell_type": "code",
   "execution_count": 13,
   "metadata": {},
   "outputs": [
    {
     "data": {
      "text/html": [
       "<div>\n",
       "<style scoped>\n",
       "    .dataframe tbody tr th:only-of-type {\n",
       "        vertical-align: middle;\n",
       "    }\n",
       "\n",
       "    .dataframe tbody tr th {\n",
       "        vertical-align: top;\n",
       "    }\n",
       "\n",
       "    .dataframe thead th {\n",
       "        text-align: right;\n",
       "    }\n",
       "</style>\n",
       "<table border=\"1\" class=\"dataframe\">\n",
       "  <thead>\n",
       "    <tr style=\"text-align: right;\">\n",
       "      <th></th>\n",
       "      <th>HPCP</th>\n",
       "    </tr>\n",
       "    <tr>\n",
       "      <th>DATE</th>\n",
       "      <th></th>\n",
       "    </tr>\n",
       "  </thead>\n",
       "  <tbody>\n",
       "    <tr>\n",
       "      <th>1948-08-31</th>\n",
       "      <td>0.36</td>\n",
       "    </tr>\n",
       "    <tr>\n",
       "      <th>1948-09-30</th>\n",
       "      <td>0.83</td>\n",
       "    </tr>\n",
       "    <tr>\n",
       "      <th>1948-10-31</th>\n",
       "      <td>0.55</td>\n",
       "    </tr>\n",
       "    <tr>\n",
       "      <th>1948-11-30</th>\n",
       "      <td>0.99</td>\n",
       "    </tr>\n",
       "    <tr>\n",
       "      <th>1948-12-31</th>\n",
       "      <td>0.20</td>\n",
       "    </tr>\n",
       "  </tbody>\n",
       "</table>\n",
       "</div>"
      ],
      "text/plain": [
       "            HPCP\n",
       "DATE            \n",
       "1948-08-31  0.36\n",
       "1948-09-30  0.83\n",
       "1948-10-31  0.55\n",
       "1948-11-30  0.99\n",
       "1948-12-31  0.20"
      ]
     },
     "execution_count": 13,
     "metadata": {},
     "output_type": "execute_result"
    }
   ],
   "source": [
    "precip_monthly = (boulder_precip_1948_2013.resample('M').sum())\n",
    "precip_monthly.head()"
   ]
  },
  {
   "cell_type": "code",
   "execution_count": 24,
   "metadata": {},
   "outputs": [
    {
     "data": {
      "text/plain": [
       "2013"
      ]
     },
     "execution_count": 24,
     "metadata": {},
     "output_type": "execute_result"
    }
   ],
   "source": [
    "max_monthly_year = precip_monthly['HPCP'].idxmax()\n",
    "max_monthly_year.year"
   ]
  },
  {
   "cell_type": "code",
   "execution_count": 21,
   "metadata": {},
   "outputs": [
    {
     "data": {
      "text/html": [
       "<div>\n",
       "<style scoped>\n",
       "    .dataframe tbody tr th:only-of-type {\n",
       "        vertical-align: middle;\n",
       "    }\n",
       "\n",
       "    .dataframe tbody tr th {\n",
       "        vertical-align: top;\n",
       "    }\n",
       "\n",
       "    .dataframe thead th {\n",
       "        text-align: right;\n",
       "    }\n",
       "</style>\n",
       "<table border=\"1\" class=\"dataframe\">\n",
       "  <thead>\n",
       "    <tr style=\"text-align: right;\">\n",
       "      <th></th>\n",
       "      <th>HPCP</th>\n",
       "    </tr>\n",
       "  </thead>\n",
       "  <tbody>\n",
       "    <tr>\n",
       "      <th>count</th>\n",
       "      <td>785.000000</td>\n",
       "    </tr>\n",
       "    <tr>\n",
       "      <th>mean</th>\n",
       "      <td>1.483096</td>\n",
       "    </tr>\n",
       "    <tr>\n",
       "      <th>std</th>\n",
       "      <td>1.453036</td>\n",
       "    </tr>\n",
       "    <tr>\n",
       "      <th>min</th>\n",
       "      <td>0.000000</td>\n",
       "    </tr>\n",
       "    <tr>\n",
       "      <th>25%</th>\n",
       "      <td>0.530000</td>\n",
       "    </tr>\n",
       "    <tr>\n",
       "      <th>50%</th>\n",
       "      <td>1.100000</td>\n",
       "    </tr>\n",
       "    <tr>\n",
       "      <th>75%</th>\n",
       "      <td>2.000000</td>\n",
       "    </tr>\n",
       "    <tr>\n",
       "      <th>max</th>\n",
       "      <td>17.700000</td>\n",
       "    </tr>\n",
       "  </tbody>\n",
       "</table>\n",
       "</div>"
      ],
      "text/plain": [
       "             HPCP\n",
       "count  785.000000\n",
       "mean     1.483096\n",
       "std      1.453036\n",
       "min      0.000000\n",
       "25%      0.530000\n",
       "50%      1.100000\n",
       "75%      2.000000\n",
       "max     17.700000"
      ]
     },
     "execution_count": 21,
     "metadata": {},
     "output_type": "execute_result"
    }
   ],
   "source": [
    "precip_monthly.describe()"
   ]
  },
  {
   "cell_type": "code",
   "execution_count": 36,
   "metadata": {},
   "outputs": [
    {
     "data": {
      "text/html": [
       "<div>\n",
       "<style scoped>\n",
       "    .dataframe tbody tr th:only-of-type {\n",
       "        vertical-align: middle;\n",
       "    }\n",
       "\n",
       "    .dataframe tbody tr th {\n",
       "        vertical-align: top;\n",
       "    }\n",
       "\n",
       "    .dataframe thead th {\n",
       "        text-align: right;\n",
       "    }\n",
       "</style>\n",
       "<table border=\"1\" class=\"dataframe\">\n",
       "  <thead>\n",
       "    <tr style=\"text-align: right;\">\n",
       "      <th></th>\n",
       "      <th>HPCP</th>\n",
       "    </tr>\n",
       "  </thead>\n",
       "  <tbody>\n",
       "    <tr>\n",
       "      <th>count</th>\n",
       "      <td>785.000000</td>\n",
       "    </tr>\n",
       "    <tr>\n",
       "      <th>mean</th>\n",
       "      <td>1.483096</td>\n",
       "    </tr>\n",
       "    <tr>\n",
       "      <th>std</th>\n",
       "      <td>1.453036</td>\n",
       "    </tr>\n",
       "    <tr>\n",
       "      <th>min</th>\n",
       "      <td>0.000000</td>\n",
       "    </tr>\n",
       "    <tr>\n",
       "      <th>25%</th>\n",
       "      <td>0.530000</td>\n",
       "    </tr>\n",
       "    <tr>\n",
       "      <th>50%</th>\n",
       "      <td>1.100000</td>\n",
       "    </tr>\n",
       "    <tr>\n",
       "      <th>75%</th>\n",
       "      <td>2.000000</td>\n",
       "    </tr>\n",
       "    <tr>\n",
       "      <th>max</th>\n",
       "      <td>17.700000</td>\n",
       "    </tr>\n",
       "  </tbody>\n",
       "</table>\n",
       "</div>"
      ],
      "text/plain": [
       "             HPCP\n",
       "count  785.000000\n",
       "mean     1.483096\n",
       "std      1.453036\n",
       "min      0.000000\n",
       "25%      0.530000\n",
       "50%      1.100000\n",
       "75%      2.000000\n",
       "max     17.700000"
      ]
     },
     "execution_count": 36,
     "metadata": {},
     "output_type": "execute_result"
    }
   ],
   "source": [
    "precip_monthly.describe()"
   ]
  },
  {
   "cell_type": "code",
   "execution_count": 37,
   "metadata": {},
   "outputs": [
    {
     "name": "stdout",
     "output_type": "stream",
     "text": [
      "<class 'pandas.core.frame.DataFrame'>\n",
      "DatetimeIndex: 785 entries, 1948-08-31 to 2013-12-31\n",
      "Freq: M\n",
      "Data columns (total 1 columns):\n",
      "HPCP    785 non-null float64\n",
      "dtypes: float64(1)\n",
      "memory usage: 12.3 KB\n"
     ]
    }
   ],
   "source": [
    "precip_monthly.info()"
   ]
  },
  {
   "cell_type": "code",
   "execution_count": 14,
   "metadata": {
    "deletable": false,
    "editable": false,
    "nbgrader": {
     "cell_type": "code",
     "checksum": "ce2fe19b914be65e68d897b31a2b1714",
     "grade": true,
     "grade_id": "cell-e4683774838ff4b4",
     "locked": true,
     "points": 10,
     "schema_version": 3,
     "solution": false,
     "task": false
    }
   },
   "outputs": [
    {
     "data": {
      "text/plain": [
       "10"
      ]
     },
     "execution_count": 14,
     "metadata": {},
     "output_type": "execute_result"
    }
   ],
   "source": [
    "# Test that DataFrame objects were created with proper names and index\n",
    "\n",
    "points = 0\n",
    "\n",
    "try:\n",
    "    assert isinstance(precip_hourly, pd.DataFrame)\n",
    "    assert type(precip_hourly.index) == pd.core.indexes.datetimes.DatetimeIndex\n",
    "    points += 3.3\n",
    "except AssertionError as message:\n",
    "    print(\"AssertionError:\",\n",
    "          \"Make sure you've created the hourly data frame!\")\n",
    "try:\n",
    "    assert isinstance(precip_daily, pd.DataFrame)\n",
    "    assert type(precip_daily.index) == pd.core.indexes.datetimes.DatetimeIndex\n",
    "    points += 3.3\n",
    "except AssertionError as message:\n",
    "    print(\"AssertionError:\",\n",
    "          \"Make sure you've created the daily data frame!\")\n",
    "try:\n",
    "    assert isinstance(precip_monthly, pd.DataFrame)\n",
    "    assert type(precip_monthly.index) == pd.core.indexes.datetimes.DatetimeIndex\n",
    "    points += 3.3\n",
    "except AssertionError as message:\n",
    "    print(\"AssertionError:\",\n",
    "          \"Make sure you've created the monthly data frame!\")\n",
    "\n",
    "round(points)"
   ]
  },
  {
   "cell_type": "markdown",
   "metadata": {
    "deletable": false,
    "editable": false,
    "nbgrader": {
     "cell_type": "markdown",
     "checksum": "34e4c4f45e3cb891b9df58feeca5cbe1",
     "grade": false,
     "grade_id": "cell-1281c927ae3971cc",
     "locked": true,
     "schema_version": 3,
     "solution": false,
     "task": false
    }
   },
   "source": [
    "![Colored Bar](colored-bar.png)"
   ]
  },
  {
   "cell_type": "markdown",
   "metadata": {
    "deletable": false,
    "editable": false,
    "nbgrader": {
     "cell_type": "markdown",
     "checksum": "c266e3985142eda5a91bfb8c47691205",
     "grade": false,
     "grade_id": "cell-b187d28987cbec27",
     "locked": true,
     "schema_version": 3,
     "solution": false,
     "task": false
    }
   },
   "source": [
    "# Precipitation Plot 1 1948-2013 - 11 points\n",
    "\n",
    "Create a **scatter plot of hourly precipitation from 1948-2013** using the `data/precipitation/805333-precip-daily-1948-2013.csv` file and the `precip_hourly` object that you created above. In this plot, be sure to do the following:\n",
    "\n",
    "1. Remove no data values when you import the data.\n",
    "2. IMPORTANT: Do not aggregate the data\n",
    "3. Parse dates properly so you can plot the data using time on the x axis \n",
    "4. Create x axis ticks at 10 year increments: ege 1930, 1040, etc.\n",
    "5. Be sure to label the x and y axis and include units on the Y axis\n",
    "6. The plot title should contain the increment at which the data were collected\n"
   ]
  },
  {
   "cell_type": "code",
   "execution_count": 50,
   "metadata": {
    "deletable": false,
    "nbgrader": {
     "cell_type": "code",
     "checksum": "555d34dd58d96de58cbe706e96b2baed",
     "grade": false,
     "grade_id": "cell-c0ad31034dbcb552",
     "locked": false,
     "schema_version": 3,
     "solution": true,
     "task": false
    }
   },
   "outputs": [
    {
     "data": {
      "image/png": "[encoded data removed]",
      "text/plain": [
       "<Figure size 720x432 with 1 Axes>"
      ]
     },
     "metadata": {},
     "output_type": "display_data"
    }
   ],
   "source": [
    "# Plot 1 use the precip_hourly object that you created above\n",
    "# Add your code to generate this plot here.\n",
    "\n",
    "# YOUR CODE HERE\n",
    "# Create the plot space\n",
    "fig, ax = plt.subplots(figsize = (10,6))\n",
    "\n",
    "# Add x-axis and y-axis\n",
    "ax.scatter(data.index.values,\n",
    "       data['HPCP'].values,\n",
    "       color='blue', marker = 'o')\n",
    "# Set title and labels for axes\n",
    "ax.set(xlabel=\"Date\",\n",
    "       ylabel=\"Precipitation (inches)\",\n",
    "       title=\" HW Plot 1: Hourly Precipitation, Boulder, CO. \\n (1948-2013)\")\n",
    "# Rotate tick marks on x-axis\n",
    "plt.setp(ax.get_xticklabels(), rotation=45)\n",
    "\n",
    "\n",
    "# Define the date format\n",
    "date_form = DateFormatter(\"%Y\")\n",
    "ax.xaxis.set_major_formatter(date_form)\n",
    "\n",
    "### DO NOT REMOVE LINE BELOW ###\n",
    "plot_1_ts = nb.convert_axes(plt, which_axes=\"current\")"
   ]
  },
  {
   "cell_type": "code",
   "execution_count": null,
   "metadata": {
    "deletable": false,
    "editable": false,
    "nbgrader": {
     "cell_type": "code",
     "checksum": "ca889b92a2bb649cc2e554c5755ccdca",
     "grade": true,
     "grade_id": "cell-59261a688b417385",
     "locked": true,
     "points": 6,
     "schema_version": 3,
     "solution": false,
     "task": false
    }
   },
   "outputs": [],
   "source": []
  },
  {
   "cell_type": "code",
   "execution_count": null,
   "metadata": {
    "editable": false,
    "nbgrader": {
     "cell_type": "code",
     "checksum": "ca889b92a2bb649cc2e554c5755ccdca",
     "grade": true,
     "grade_id": "cell-59261a688b417385",
     "locked": true,
     "points": 6,
     "schema_version": 3,
     "solution": false,
     "task": false
    }
   },
   "outputs": [],
   "source": []
  },
  {
   "cell_type": "code",
   "execution_count": 16,
   "metadata": {
    "deletable": false,
    "editable": false,
    "nbgrader": {
     "cell_type": "code",
     "checksum": "33ddced8c3aa84f190b830d279c05657",
     "grade": true,
     "grade_id": "cell-bd78696e67724101",
     "locked": true,
     "points": 5,
     "schema_version": 3,
     "solution": false,
     "task": false
    }
   },
   "outputs": [],
   "source": [
    "# This is where the data will be tested for your plot above. You can skip this cell."
   ]
  },
  {
   "cell_type": "markdown",
   "metadata": {},
   "source": [
    "![Colored Bar](colored-bar.png)"
   ]
  },
  {
   "cell_type": "markdown",
   "metadata": {},
   "source": [
    "### Question (8 points)\n",
    "\n",
    "1. Consider the plot above and the associated data. What is causing the visual difference in the data that occurs around 1970? \n",
    "2. What processing step(s) could you use to address this difference in the data to make the data more similar before and after ~1970?\n",
    "2. List 2 potential reasons why this change in the data may have occured. \n"
   ]
  },
  {
   "cell_type": "markdown",
   "metadata": {
    "deletable": false,
    "nbgrader": {
     "cell_type": "markdown",
     "checksum": "0cb0a8e83a18a1383c21d31647d0496b",
     "grade": true,
     "grade_id": "cell-69991b86e35c29f5",
     "locked": false,
     "points": 8,
     "schema_version": 3,
     "solution": true,
     "task": false
    }
   },
   "source": [
    "YOUR ANSWER HERE"
   ]
  },
  {
   "cell_type": "markdown",
   "metadata": {},
   "source": [
    "![Colored Bar](colored-bar.png)"
   ]
  },
  {
   "cell_type": "markdown",
   "metadata": {},
   "source": [
    "## Plots 2 & 3 (11 points each)\n",
    "\n",
    "Using the same data that you used above, create a figure with two side by side subplots. The first plot should be a **scatter plot** of the DAILY precipitation using the DataFrame `precip_daily` that you created above. The second should be a **scatter plot** showing Monthly total precipitation using the `precip_hourly` object. For each plot be sure to do the following:\n",
    "\n",
    "1. Include an x and y axis label with correct units specified\n",
    "2. include a title that describes the date range of the data, the location where the data were collected and the variable being displayed.\n",
    "3. The x axis should display time\n",
    "4. Using matplotlib `ylim` settings to scale your y axis so both plots are the same. Scale the y axis from 0-20.\n"
   ]
  },
  {
   "cell_type": "code",
   "execution_count": 17,
   "metadata": {
    "deletable": false,
    "nbgrader": {
     "cell_type": "code",
     "checksum": "f192d18cad18c8737e2908af216fddfb",
     "grade": false,
     "grade_id": "cell-1f1242e8b36c1a33",
     "locked": false,
     "schema_version": 3,
     "solution": true,
     "task": false
    }
   },
   "outputs": [
    {
     "data": {
      "image/png": "[encoded data removed]",
      "text/plain": [
       "<Figure size 864x432 with 2 Axes>"
      ]
     },
     "metadata": {},
     "output_type": "display_data"
    }
   ],
   "source": [
    "# YOUR CODE HERE\n",
    "# Define figure space with two horizontal plots\n",
    "fig, (ax1, ax2) = plt.subplots(1, 2, figsize = (12,6), \n",
    "                               constrained_layout=True)\n",
    "\n",
    "# Add x-axis and y-axis for plot 2 and 3\n",
    "ax1.scatter(precip_daily.index.values,\n",
    "       precip_daily['HPCP'],\n",
    "       color='green', marker = 'o')\n",
    "ax2.scatter(precip_monthly.index.values,\n",
    "       precip_monthly['HPCP'],\n",
    "       color='red', marker = 'o')\n",
    "\n",
    "# Set title and labels for axes\n",
    "ax1.set(xlabel=\"Date\",\n",
    "       ylabel=\"Precipitation (inches)\",\n",
    "       title=\"HW Plot 2: Daily Precipitation, Boulder, CO. \\n (1948-2013)\")\n",
    "ax2.set(xlabel=\"Date\",\n",
    "       ylabel=\"Precipitation (inches)\",\n",
    "       title=\"HW Plot 3: Monthly Precipitation, Boulder, CO. \\n (1948-2013)\")\n",
    "\n",
    "\n",
    "# Rotate tick marks on x-axis\n",
    "plt.setp(ax1.get_xticklabels(), rotation=45)\n",
    "plt.setp(ax2.get_xticklabels(), rotation=45)\n",
    "\n",
    "# Define the date format\n",
    "date_form = DateFormatter(\"%Y\")\n",
    "ax.xaxis.set_major_formatter(date_form)\n",
    "\n",
    "\n",
    "\n",
    "### DO NOT REMOVE LINE BELOW ###\n",
    "plot_2_ts = nb.convert_axes(plt)"
   ]
  },
  {
   "cell_type": "code",
   "execution_count": null,
   "metadata": {
    "deletable": false,
    "editable": false,
    "nbgrader": {
     "cell_type": "code",
     "checksum": "2e87def5553c1565de6ca6f5d32615aa",
     "grade": true,
     "grade_id": "cell-fd6f5d59defe262a",
     "locked": true,
     "points": 6,
     "schema_version": 3,
     "solution": false,
     "task": false
    }
   },
   "outputs": [],
   "source": []
  },
  {
   "cell_type": "code",
   "execution_count": 18,
   "metadata": {
    "deletable": false,
    "editable": false,
    "nbgrader": {
     "cell_type": "code",
     "checksum": "1d30f4bd8240e1355b6be1447f825701",
     "grade": true,
     "grade_id": "cell-d39b3343de817c62",
     "locked": true,
     "points": 6,
     "schema_version": 3,
     "solution": false,
     "task": false
    }
   },
   "outputs": [],
   "source": [
    "# This is where your data will be graded! Ignore this cell"
   ]
  },
  {
   "cell_type": "code",
   "execution_count": 19,
   "metadata": {
    "deletable": false,
    "editable": false,
    "nbgrader": {
     "cell_type": "code",
     "checksum": "56dcb12f8037755606d7b2fe03ad23dd",
     "grade": true,
     "grade_id": "cell-106240be06199028",
     "locked": true,
     "points": 6,
     "schema_version": 3,
     "solution": false,
     "task": false
    }
   },
   "outputs": [],
   "source": [
    "# This will test your plots - ignore"
   ]
  },
  {
   "cell_type": "code",
   "execution_count": null,
   "metadata": {
    "deletable": false,
    "editable": false,
    "nbgrader": {
     "cell_type": "code",
     "checksum": "089364f5219ba4114940998f475800d1",
     "grade": true,
     "grade_id": "cell-82f769c859a368ec",
     "locked": true,
     "points": 6,
     "schema_version": 3,
     "solution": false,
     "task": false
    }
   },
   "outputs": [],
   "source": []
  },
  {
   "cell_type": "markdown",
   "metadata": {
    "deletable": false,
    "editable": false,
    "nbgrader": {
     "cell_type": "markdown",
     "checksum": "b81da195db4fd478bf582fe046abdce7",
     "grade": false,
     "grade_id": "cell-720b8c9fdd772f46",
     "locked": true,
     "schema_version": 3,
     "solution": false,
     "task": false
    }
   },
   "source": [
    "![Colored Bar](colored-bar.png)"
   ]
  },
  {
   "cell_type": "markdown",
   "metadata": {
    "deletable": false,
    "editable": false,
    "nbgrader": {
     "cell_type": "markdown",
     "checksum": "f17da2f0a4a3e493cd8d6d050ba4114b",
     "grade": false,
     "grade_id": "cell-1155e7c5e36d71ae",
     "locked": true,
     "schema_version": 3,
     "solution": false,
     "task": false
    }
   },
   "source": [
    "## Create a Function That Returns Year of Max Precipitation Value (7 points)\n",
    "In the cell below, complete the code needed for a function called `calc_max_precip_year` that will subset a Pandas DataFrame and identify the row where a particular column (in this case HPCP) has a max value. The function should return the YEAR associated with the row that has the max value. Year should be of type integer.  \n",
    "\n",
    "The function should:\n",
    "\n",
    "1. Take a pandas dataframe and a column name (as a text string) as an input\n",
    "2. Return a year in a numeric form.\n",
    "\n",
    "Then run the function to create the following 3 variables:\n",
    "\n",
    "1. `calculated_year_hourly`\n",
    "1. `calculated_year_daily`\n",
    "1. `calculated_year_monthly`\n"
   ]
  },
  {
   "cell_type": "code",
   "execution_count": 27,
   "metadata": {
    "deletable": false,
    "nbgrader": {
     "cell_type": "code",
     "checksum": "7d16a125db76e58bb506c378f87ad106",
     "grade": false,
     "grade_id": "cell-a69554dd5e2122dd",
     "locked": false,
     "schema_version": 3,
     "solution": true,
     "task": false
    }
   },
   "outputs": [
    {
     "name": "stdout",
     "output_type": "stream",
     "text": [
      "2013\n",
      "2013\n",
      "1959\n"
     ]
    }
   ],
   "source": [
    "# Write a function that calculates the year during which the max rainfall occured.\n",
    "\n",
    "\n",
    "def calc_max_precip_year(df, col_name):\n",
    "    \"\"\"\n",
    "    Function that takes a dataframe and calculates the year during which a max event occurred.\n",
    "\n",
    "    # Add the parameters and returns elements here to fill out your docstring\n",
    "    Parameters\n",
    "    ----------\n",
    "    df : dataframe\n",
    "         numeric values\n",
    "    col_name : string\n",
    "        numeric values\n",
    "    \n",
    "    Returns\n",
    "    ------\n",
    "    calculated_year_hourly: date\n",
    "    year with maximum horuly precipitation\n",
    "    \n",
    "    calculated_year_daily : date\n",
    "    year with maximum daily precipitation\n",
    "    \n",
    "    calculated_year_monthly : date\n",
    "    year with maximum monthly precipitation\n",
    "    \"\"\"\n",
    "\n",
    "    # Populate this function with the correct code\n",
    "    # YOUR CODE HERE\n",
    "    df_max = df[col_name].idxmax()\n",
    "    year = df_max.year    \n",
    "    \n",
    "\n",
    "    # Test that the function returns an integer value\n",
    "    try:\n",
    "        assert isinstance(year, (np.int64, int, float, complex))\n",
    "    except ValueError:\n",
    "        print(\"Oops!  This function should return an integer representing a year.\")\n",
    "\n",
    "    return year\n",
    "\n",
    "# Here, create the three objects specified in the markdown cell above : \n",
    "# 1) calculated_year_hourly, 2) calculated_year_daily, 3) calculated_year_monthly\n",
    "calculated_year_monthly = calc_max_precip_year(precip_monthly,'HPCP')\n",
    "calculated_year_daily = calc_max_precip_year(precip_daily,'HPCP')\n",
    "calculated_year_hourly = calc_max_precip_year(precip_hourly,'HPCP')\n",
    "\n",
    "# YOUR CODE HERE\n",
    "print(calculated_year_monthly)\n",
    "print(calculated_year_daily)\n",
    "print(calculated_year_hourly)\n"
   ]
  },
  {
   "cell_type": "code",
   "execution_count": null,
   "metadata": {},
   "outputs": [],
   "source": []
  },
  {
   "cell_type": "code",
   "execution_count": null,
   "metadata": {},
   "outputs": [],
   "source": [
    "# Create two empty lists to receive median and max values\n",
    "median_ppt_inches = []\n",
    "max_ppt_inches =[]\n",
    "\n",
    "# Calculate median for each numpy array and add to new lists\n",
    "for i in arr_list: \n",
    "    arr_median =summary_mm_to_inch(i, stat ='median', axis_value = 0)                 \n",
    "    median_ppt_inches += [arr_median]\n",
    "    arr_max = summary_mm_to_inch(i, stat = 'max', axis_value = 1)                 \n",
    "    max_ppt_inches += [arr_max]\n",
    "# Save Boulder and San Francisco median precipitation as numpy array \n",
    "boulder_mo_med_ppt = median_ppt_inches[0]\n",
    "sf_mo_med_ppt = median_ppt_inches[1]\n",
    "\n",
    "# Save Boulder and San Francisco maximum precipitation as numpy array \n",
    "boulder_yearly_max_ppt = max_ppt_inches[0]\n",
    "sf_yearly_max_ppt = max_ppt_inches[1]\n",
    "\n",
    "# To print meidan array values and their shape\n",
    "print(boulder_mo_med_ppt)\n",
    "boulder_mo_med_ppt.shape\n",
    "print(sf_mo_med_ppt)\n",
    "sf_mo_med_ppt.shape\n"
   ]
  },
  {
   "cell_type": "code",
   "execution_count": null,
   "metadata": {
    "deletable": false,
    "editable": false,
    "nbgrader": {
     "cell_type": "code",
     "checksum": "0d749ac76ce9843563914e57cac52074",
     "grade": true,
     "grade_id": "cell-78c54e6e24199606",
     "locked": true,
     "points": 7,
     "schema_version": 3,
     "solution": false,
     "task": false
    }
   },
   "outputs": [],
   "source": []
  },
  {
   "cell_type": "markdown",
   "metadata": {
    "deletable": false,
    "editable": false,
    "nbgrader": {
     "cell_type": "markdown",
     "checksum": "e915051f95787168c0a9bd100e214718",
     "grade": false,
     "grade_id": "cell-665a8698d7c16720",
     "locked": true,
     "points": 3,
     "schema_version": 3,
     "solution": false,
     "task": true
    }
   },
   "source": [
    "## Manually Graded Cell\n",
    "This is where your docstring will be graded! Be sure that you have a number style docstring with `parameters` and `returns`."
   ]
  },
  {
   "cell_type": "markdown",
   "metadata": {
    "deletable": false,
    "editable": false,
    "nbgrader": {
     "cell_type": "markdown",
     "checksum": "4b7cd7e53141283a609a712ae4b17c7c",
     "grade": false,
     "grade_id": "cell-cdf9305d98820fbf",
     "locked": true,
     "schema_version": 3,
     "solution": false,
     "task": false
    }
   },
   "source": [
    "![Colored Bar](colored-bar.png)"
   ]
  },
  {
   "cell_type": "markdown",
   "metadata": {
    "deletable": false,
    "editable": false,
    "nbgrader": {
     "cell_type": "markdown",
     "checksum": "08f04b3bd2cc1a3ed39d0f8f7de1c2f0",
     "grade": false,
     "grade_id": "cell-383d235a530fe42c",
     "locked": true,
     "schema_version": 3,
     "solution": false,
     "task": false
    }
   },
   "source": [
    "### Question (10 Points) \n",
    "\n",
    "In the markdown cell below, first answer the following questions\n",
    "\n",
    "1. In what year did Boulder have the highest hourly precipitation recorded value?\n",
    "2. In what year did Boulder have the highest daily precipitation recorded value?\n",
    "3. In what year did Boulder have the highest monthly precipitation recorded value?\n",
    "4. Consider your answers to the questions above. How could summarizing data at different temporal units (hour, vs month vs year) impact an analysis of rainfall as it contributes to a flood event? (write a short paragraph - 3-5 sentences) that addresses this question.\n"
   ]
  },
  {
   "cell_type": "raw",
   "metadata": {
    "deletable": false,
    "nbgrader": {
     "cell_type": "markdown",
     "checksum": "d72ff1a25a137582e6079bce93aff467",
     "grade": true,
     "grade_id": "cell-42291f9e56d020c8",
     "locked": false,
     "points": 10,
     "schema_version": 3,
     "solution": true,
     "task": false
    }
   },
   "source": [
    "1. Maximum hourly precipitation: 1959\n",
    "2. Maximim daily precipitation: 2013\n",
    "3. Maximum monthly precipitation: 2013\n",
    "4. "
   ]
  },
  {
   "cell_type": "markdown",
   "metadata": {},
   "source": [
    "![Colored Bar](colored-bar.png)"
   ]
  },
  {
   "cell_type": "markdown",
   "metadata": {
    "deletable": false,
    "editable": false,
    "nbgrader": {
     "cell_type": "markdown",
     "checksum": "9390a33d9ce4a8e4bd4e903d36247acc",
     "grade": false,
     "grade_id": "cell-304c1b8128c6c57f",
     "locked": true,
     "points": 12,
     "schema_version": 3,
     "solution": false,
     "task": true
    }
   },
   "source": [
    "# This is a manually graded cell (12 points)\n",
    "You can ignore it\n",
    "1. AutoPep 8 format applied (5 points)\n",
    "2. Notebook starts at cell [1] and runs without errors (5 points)\n",
    "3. All imports are listed at the top of the notebook (2 points)"
   ]
  }
 ],
 "metadata": {
  "kernelspec": {
   "display_name": "Python 3",
   "language": "python",
   "name": "python3"
  },
  "language_info": {
   "codemirror_mode": {
    "name": "ipython",
    "version": 3
   },
   "file_extension": ".py",
   "mimetype": "text/x-python",
   "name": "python",
   "nbconvert_exporter": "python",
   "pygments_lexer": "ipython3",
   "version": "3.7.6"
  },
  "toc": {
   "base_numbering": 1,
   "nav_menu": {},
   "number_sections": true,
   "sideBar": true,
   "skip_h1_title": false,
   "title_cell": "Table of Contents",
   "title_sidebar": "Contents",
   "toc_cell": false,
   "toc_position": {},
   "toc_section_display": true,
   "toc_window_display": false
  }
 },
 "nbformat": 4,
 "nbformat_minor": 2
}
